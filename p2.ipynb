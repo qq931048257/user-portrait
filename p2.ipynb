{
 "cells": [
  {
   "cell_type": "markdown",
   "metadata": {},
   "source": [
    "# 任务二 统计分析"
   ]
  },
  {
   "cell_type": "code",
   "execution_count": 2,
   "metadata": {},
   "outputs": [],
   "source": [
    "import numpy as np\n",
    "import matplotlib.pyplot as plt\n",
    "import pandas as pd\n",
    "import datetime as dt\n",
    "plt.rcParams['font.sans-serif'] = ['Arial Unicode MS']"
   ]
  },
  {
   "cell_type": "markdown",
   "metadata": {},
   "source": [
    "## 分析会员的年龄构成、男女比例等基本信息"
   ]
  },
  {
   "cell_type": "markdown",
   "metadata": {},
   "source": [
    "### 会员年龄组成"
   ]
  },
  {
   "cell_type": "code",
   "execution_count": 14,
   "metadata": {},
   "outputs": [],
   "source": [
    "mb = pd.read_csv('mb.csv')\n",
    "mb2 = pd.read_csv('task1.csv')"
   ]
  },
  {
   "cell_type": "code",
   "execution_count": 5,
   "metadata": {},
   "outputs": [
    {
     "ename": "NameError",
     "evalue": "name 'mb' is not defined",
     "output_type": "error",
     "traceback": [
      "\u001b[0;31m---------------------------------------------------------------------------\u001b[0m",
      "\u001b[0;31mNameError\u001b[0m                                 Traceback (most recent call last)",
      "\u001b[0;32m<ipython-input-5-43221e770a25>\u001b[0m in \u001b[0;36m<module>\u001b[0;34m\u001b[0m\n\u001b[0;32m----> 1\u001b[0;31m \u001b[0mmb\u001b[0m\u001b[0;34m[\u001b[0m\u001b[0;34m'csrq'\u001b[0m\u001b[0;34m]\u001b[0m \u001b[0;34m=\u001b[0m \u001b[0mpd\u001b[0m\u001b[0;34m.\u001b[0m\u001b[0mto_datetime\u001b[0m\u001b[0;34m(\u001b[0m\u001b[0mmb\u001b[0m\u001b[0;34m[\u001b[0m\u001b[0;34m'csrq'\u001b[0m\u001b[0;34m]\u001b[0m\u001b[0;34m)\u001b[0m\u001b[0;34m\u001b[0m\u001b[0;34m\u001b[0m\u001b[0m\n\u001b[0m\u001b[1;32m      2\u001b[0m \u001b[0mmb2\u001b[0m\u001b[0;34m[\u001b[0m\u001b[0;34m'csrq'\u001b[0m\u001b[0;34m]\u001b[0m \u001b[0;34m=\u001b[0m \u001b[0mpd\u001b[0m\u001b[0;34m.\u001b[0m\u001b[0mto_datetime\u001b[0m\u001b[0;34m(\u001b[0m\u001b[0mmb2\u001b[0m\u001b[0;34m[\u001b[0m\u001b[0;34m'csrq'\u001b[0m\u001b[0;34m]\u001b[0m\u001b[0;34m)\u001b[0m\u001b[0;34m\u001b[0m\u001b[0;34m\u001b[0m\u001b[0m\n\u001b[1;32m      3\u001b[0m \u001b[0mmb\u001b[0m\u001b[0;34m[\u001b[0m\u001b[0;34m'djsj'\u001b[0m\u001b[0;34m]\u001b[0m \u001b[0;34m=\u001b[0m \u001b[0mpd\u001b[0m\u001b[0;34m.\u001b[0m\u001b[0mto_datetime\u001b[0m\u001b[0;34m(\u001b[0m\u001b[0mmb\u001b[0m\u001b[0;34m[\u001b[0m\u001b[0;34m'djsj'\u001b[0m\u001b[0;34m]\u001b[0m\u001b[0;34m)\u001b[0m\u001b[0;34m\u001b[0m\u001b[0;34m\u001b[0m\u001b[0m\n",
      "\u001b[0;31mNameError\u001b[0m: name 'mb' is not defined"
     ]
    }
   ],
   "source": [
    "mb['csrq'] = pd.to_datetime(mb['csrq'])\n",
    "mb2['csrq'] = pd.to_datetime(mb2['csrq'])\n",
    "mb['djsj'] = pd.to_datetime(mb['djsj'])"
   ]
  },
  {
   "cell_type": "code",
   "execution_count": 12,
   "metadata": {},
   "outputs": [],
   "source": [
    "mb['age'] = mb['csrq'].apply(lambda x: 2020 - x.year)"
   ]
  },
  {
   "cell_type": "code",
   "execution_count": 21,
   "metadata": {},
   "outputs": [
    {
     "data": {
      "text/html": [
       "<div>\n",
       "<style scoped>\n",
       "    .dataframe tbody tr th:only-of-type {\n",
       "        vertical-align: middle;\n",
       "    }\n",
       "\n",
       "    .dataframe tbody tr th {\n",
       "        vertical-align: top;\n",
       "    }\n",
       "\n",
       "    .dataframe thead th {\n",
       "        text-align: right;\n",
       "    }\n",
       "</style>\n",
       "<table border=\"1\" class=\"dataframe\">\n",
       "  <thead>\n",
       "    <tr style=\"text-align: right;\">\n",
       "      <th></th>\n",
       "      <th>kh</th>\n",
       "      <th>csrq</th>\n",
       "      <th>xb</th>\n",
       "      <th>djsj</th>\n",
       "      <th>age</th>\n",
       "      <th>age_lab</th>\n",
       "    </tr>\n",
       "  </thead>\n",
       "  <tbody>\n",
       "    <tr>\n",
       "      <th>0</th>\n",
       "      <td>c68b20b4</td>\n",
       "      <td>2002-11-02</td>\n",
       "      <td>0.0</td>\n",
       "      <td>2013-05-11 00:00:00.000</td>\n",
       "      <td>18</td>\n",
       "      <td>青年</td>\n",
       "    </tr>\n",
       "    <tr>\n",
       "      <th>1</th>\n",
       "      <td>a37cc182</td>\n",
       "      <td>1967-02-17</td>\n",
       "      <td>0.0</td>\n",
       "      <td>2004-12-31 21:24:34.216</td>\n",
       "      <td>53</td>\n",
       "      <td>中年</td>\n",
       "    </tr>\n",
       "    <tr>\n",
       "      <th>2</th>\n",
       "      <td>2ab88539</td>\n",
       "      <td>1982-06-01</td>\n",
       "      <td>0.0</td>\n",
       "      <td>2010-11-19 00:00:00.000</td>\n",
       "      <td>38</td>\n",
       "      <td>青年</td>\n",
       "    </tr>\n",
       "    <tr>\n",
       "      <th>3</th>\n",
       "      <td>b4c77269</td>\n",
       "      <td>1964-02-05</td>\n",
       "      <td>0.0</td>\n",
       "      <td>2007-12-14 00:00:00.000</td>\n",
       "      <td>56</td>\n",
       "      <td>中年</td>\n",
       "    </tr>\n",
       "    <tr>\n",
       "      <th>4</th>\n",
       "      <td>83a91070</td>\n",
       "      <td>1968-06-18</td>\n",
       "      <td>1.0</td>\n",
       "      <td>2004-05-01 16:50:13.950</td>\n",
       "      <td>52</td>\n",
       "      <td>中年</td>\n",
       "    </tr>\n",
       "  </tbody>\n",
       "</table>\n",
       "</div>"
      ],
      "text/plain": [
       "         kh       csrq   xb                    djsj  age age_lab\n",
       "0  c68b20b4 2002-11-02  0.0 2013-05-11 00:00:00.000   18      青年\n",
       "1  a37cc182 1967-02-17  0.0 2004-12-31 21:24:34.216   53      中年\n",
       "2  2ab88539 1982-06-01  0.0 2010-11-19 00:00:00.000   38      青年\n",
       "3  b4c77269 1964-02-05  0.0 2007-12-14 00:00:00.000   56      中年\n",
       "4  83a91070 1968-06-18  1.0 2004-05-01 16:50:13.950   52      中年"
      ]
     },
     "execution_count": 21,
     "metadata": {},
     "output_type": "execute_result"
    }
   ],
   "source": [
    "mb['age_lab'] = pd.cut(mb['age'],bins = [17,45,60,99],labels = ['青年','中年','老年'])\n",
    "mb.head()"
   ]
  },
  {
   "cell_type": "code",
   "execution_count": 39,
   "metadata": {},
   "outputs": [
    {
     "data": {
      "text/plain": [
       "(array([3.5000e+01, 1.1200e+02, 2.6030e+03, 1.3512e+04, 2.8759e+04,\n",
       "        2.2517e+04, 2.6594e+04, 1.8621e+04, 1.5191e+04, 5.5230e+03,\n",
       "        2.7930e+03, 6.6100e+02, 2.5900e+02, 7.0000e+01, 1.7000e+01,\n",
       "        1.4000e+01, 1.9000e+01, 2.0000e+00, 4.0000e+00, 1.8000e+01]),\n",
       " array([ 10. ,  15.5,  21. ,  26.5,  32. ,  37.5,  43. ,  48.5,  54. ,\n",
       "         59.5,  65. ,  70.5,  76. ,  81.5,  87. ,  92.5,  98. , 103.5,\n",
       "        109. , 114.5, 120. ]),\n",
       " <a list of 20 Patch objects>)"
      ]
     },
     "execution_count": 39,
     "metadata": {},
     "output_type": "execute_result"
    },
    {
     "data": {
      "text/plain": [
       "Text(0.5, 0, '年龄')"
      ]
     },
     "execution_count": 39,
     "metadata": {},
     "output_type": "execute_result"
    },
    {
     "data": {
      "text/plain": [
       "Text(0, 0.5, '个数')"
      ]
     },
     "execution_count": 39,
     "metadata": {},
     "output_type": "execute_result"
    },
    {
     "data": {
      "text/plain": [
       "Text(0.5, 1.0, '会员年龄构成')"
      ]
     },
     "execution_count": 39,
     "metadata": {},
     "output_type": "execute_result"
    },
    {
     "data": {
      "image/png": "[encoded data removed]",
      "text/plain": [
       "<Figure size 432x288 with 1 Axes>"
      ]
     },
     "metadata": {
      "needs_background": "light"
     },
     "output_type": "display_data"
    }
   ],
   "source": [
    "plt.hist(mb['age'],bins = 20)\n",
    "plt.xlabel('年龄')\n",
    "plt.ylabel('个数')\n",
    "plt.title('会员年龄构成')\n",
    "plt.show()"
   ]
  },
  {
   "cell_type": "code",
   "execution_count": 44,
   "metadata": {},
   "outputs": [
    {
     "data": {
      "text/plain": [
       "([<matplotlib.patches.Wedge at 0x11a6ea710>,\n",
       "  <matplotlib.patches.Wedge at 0x11a6eadd0>,\n",
       "  <matplotlib.patches.Wedge at 0x11a6f45d0>],\n",
       " [Text(-0.3260124030452589, 1.1548661883788338, '青年'),\n",
       "  Text(0.10727364784222031, -1.1951955339937577, '中年'),\n",
       "  Text(1.1793862086893738, -0.2214682161243574, '老年')],\n",
       " [Text(-0.19017390177640103, 0.6736719432209863, '58.76%'),\n",
       "  Text(0.0625762945746285, -0.6971973948296919, '35.33%'),\n",
       "  Text(0.6879752884021346, -0.12918979273920847, '5.91%')])"
      ]
     },
     "execution_count": 44,
     "metadata": {},
     "output_type": "execute_result"
    },
    {
     "data": {
      "text/plain": [
       "Text(0.5, 1.0, '会员年龄构成')"
      ]
     },
     "execution_count": 44,
     "metadata": {},
     "output_type": "execute_result"
    },
    {
     "data": {
      "image/png": "[encoded data removed]",
      "text/plain": [
       "<Figure size 432x288 with 1 Axes>"
      ]
     },
     "metadata": {},
     "output_type": "display_data"
    }
   ],
   "source": [
    "plt.pie(age_labs,labels = ['青年','中年','老年'],autopct = '%1.2f%%',explode = (0.1,0.1,0.1))\n",
    "plt.title('会员年龄构成')\n",
    "plt.show()"
   ]
  },
  {
   "cell_type": "code",
   "execution_count": 35,
   "metadata": {},
   "outputs": [],
   "source": [
    "mb2['age'] = mb2['csrq'].apply(lambda x: 2020 - x.year)\n",
    "mb2['age_lab'] = pd.cut(mb2['age'],bins = [17,45,60,99],labels = ['青年','中年','老年'])\n",
    "age_labs = [np.sum(mb2['age_lab'] == '青年'),\n",
    "            np.sum(mb2['age_lab'] == '中年'),\n",
    "            np.sum(mb2['age_lab'] == '老年')]"
   ]
  },
  {
   "cell_type": "code",
   "execution_count": 36,
   "metadata": {},
   "outputs": [],
   "source": [
    "age_pay = [ np.sum(mb2[mb2['age_lab'] == '青年']['je']),\n",
    "            np.sum(mb2[mb2['age_lab'] == '中年']['je']),\n",
    "            np.sum(mb2[mb2['age_lab'] == '老年']['je']),]"
   ]
  },
  {
   "cell_type": "code",
   "execution_count": 37,
   "metadata": {},
   "outputs": [
    {
     "data": {
      "text/plain": [
       "<BarContainer object of 3 artists>"
      ]
     },
     "execution_count": 37,
     "metadata": {},
     "output_type": "execute_result"
    },
    {
     "data": {
      "text/plain": [
       "Text(0.5, 0, '年龄分布')"
      ]
     },
     "execution_count": 37,
     "metadata": {},
     "output_type": "execute_result"
    },
    {
     "data": {
      "text/plain": [
       "Text(0, 0.5, '消费总额')"
      ]
     },
     "execution_count": 37,
     "metadata": {},
     "output_type": "execute_result"
    },
    {
     "data": {
      "text/plain": [
       "([<matplotlib.axis.XTick at 0x119c37f90>,\n",
       "  <matplotlib.axis.XTick at 0x119c375d0>,\n",
       "  <matplotlib.axis.XTick at 0x119c37810>],\n",
       " <a list of 3 Text xticklabel objects>)"
      ]
     },
     "execution_count": 37,
     "metadata": {},
     "output_type": "execute_result"
    },
    {
     "data": {
      "image/png": "[encoded data removed]",
      "text/plain": [
       "<Figure size 432x288 with 1 Axes>"
      ]
     },
     "metadata": {
      "needs_background": "light"
     },
     "output_type": "display_data"
    }
   ],
   "source": [
    "plt.bar(range(3), age_pay, width = 0.3)\n",
    "plt.xlabel('年龄分布')\n",
    "plt.ylabel('消费总额')\n",
    "plt.xticks(range(3), ['青年','中年','老年'])\n",
    "plt.show()"
   ]
  },
  {
   "cell_type": "markdown",
   "metadata": {},
   "source": [
    "### 会员男女比例"
   ]
  },
  {
   "cell_type": "code",
   "execution_count": 12,
   "metadata": {},
   "outputs": [],
   "source": [
    "sex_labs = [np.sum(mb['xb'] == 0),\n",
    "            np.sum(mb['xb'] == 1)]"
   ]
  },
  {
   "cell_type": "code",
   "execution_count": 13,
   "metadata": {},
   "outputs": [
    {
     "data": {
      "text/plain": [
       "([<matplotlib.patches.Wedge at 0x1021e7710>,\n",
       "  <matplotlib.patches.Wedge at 0x1021e7e10>],\n",
       " [Text(-0.9355937772741789, 0.7514414707253217, '女'),\n",
       "  Text(0.8576276291679972, -0.6888213481648784, '男')],\n",
       " [Text(-0.5457630367432709, 0.4383408579231043, '78.46%'),\n",
       "  Text(0.4677968886370893, -0.3757207353626609, '21.54%')])"
      ]
     },
     "execution_count": 13,
     "metadata": {},
     "output_type": "execute_result"
    },
    {
     "data": {
      "text/plain": [
       "Text(0.5, 1.0, '会员性别比例')"
      ]
     },
     "execution_count": 13,
     "metadata": {},
     "output_type": "execute_result"
    },
    {
     "data": {
      "image/png": "[encoded data removed]",
      "text/plain": [
       "<Figure size 432x288 with 1 Axes>"
      ]
     },
     "metadata": {},
     "output_type": "display_data"
    }
   ],
   "source": [
    "plt.pie(sex_labs,labels = ['女','男'],autopct = '%1.2f%%',explode = (0.1,0))\n",
    "plt.title('会员性别比例')\n",
    "plt.show()"
   ]
  },
  {
   "cell_type": "code",
   "execution_count": 33,
   "metadata": {},
   "outputs": [],
   "source": [
    "pay_lab = [\n",
    "        np.sum(mb2[mb2['xb'] == 0]['je']),\n",
    "        np.sum(mb2[mb2['xb'] == 1]['je'])] "
   ]
  },
  {
   "cell_type": "code",
   "execution_count": 34,
   "metadata": {},
   "outputs": [
    {
     "data": {
      "text/plain": [
       "<BarContainer object of 2 artists>"
      ]
     },
     "execution_count": 34,
     "metadata": {},
     "output_type": "execute_result"
    },
    {
     "data": {
      "text/plain": [
       "Text(0.5, 0, '性别')"
      ]
     },
     "execution_count": 34,
     "metadata": {},
     "output_type": "execute_result"
    },
    {
     "data": {
      "text/plain": [
       "Text(0, 0.5, '消费总额')"
      ]
     },
     "execution_count": 34,
     "metadata": {},
     "output_type": "execute_result"
    },
    {
     "data": {
      "text/plain": [
       "([<matplotlib.axis.XTick at 0x1173c9e10>,\n",
       "  <matplotlib.axis.XTick at 0x1173c9650>],\n",
       " <a list of 2 Text xticklabel objects>)"
      ]
     },
     "execution_count": 34,
     "metadata": {},
     "output_type": "execute_result"
    },
    {
     "data": {
      "image/png": "[encoded data removed]",
      "text/plain": [
       "<Figure size 432x288 with 1 Axes>"
      ]
     },
     "metadata": {
      "needs_background": "light"
     },
     "output_type": "display_data"
    }
   ],
   "source": [
    "plt.bar(range(2), pay_lab, width = 0.3)\n",
    "plt.xlabel('性别')\n",
    "plt.ylabel('消费总额')\n",
    "plt.xticks(range(2), ['女','男'])\n",
    "plt.show()"
   ]
  },
  {
   "cell_type": "markdown",
   "metadata": {},
   "source": [
    "## 分析会员的总订单占比、总消费金额占比等消费情况"
   ]
  },
  {
   "cell_type": "markdown",
   "metadata": {},
   "source": [
    "### 会员与非会员的总订单占比"
   ]
  },
  {
   "cell_type": "code",
   "execution_count": 6,
   "metadata": {},
   "outputs": [
    {
     "name": "stderr",
     "output_type": "stream",
     "text": [
      "/Users/quanzai/opt/anaconda3/lib/python3.7/site-packages/IPython/core/interactiveshell.py:3063: DtypeWarning: Columns (0,1,3,14) have mixed types.Specify dtype option on import or set low_memory=False.\n",
      "  interactivity=interactivity, compiler=compiler, result=result)\n"
     ]
    }
   ],
   "source": [
    "data = pd.read_csv('task1.csv')\n",
    "data = data.dropna(axis = 0,subset = ['kh','djsj','dtime'])"
   ]
  },
  {
   "cell_type": "code",
   "execution_count": 7,
   "metadata": {},
   "outputs": [],
   "source": [
    "orders = [np.sum(data['kh'].notnull()),\n",
    "         np.sum(data['kh'].isnull())]"
   ]
  },
  {
   "cell_type": "code",
   "execution_count": 8,
   "metadata": {},
   "outputs": [
    {
     "data": {
      "text/plain": [
       "([<matplotlib.patches.Wedge at 0x113bcae50>,\n",
       "  <matplotlib.patches.Wedge at 0x113bca890>],\n",
       " [Text(0.03219226161314075, 1.149549328342299, '会员'),\n",
       "  Text(-0.030792495115671215, -1.0995689256452055, '非会员')],\n",
       " [Text(0.018195626129166507, 0.6497452725412995, '49.11%'),\n",
       "  Text(-0.01679590642672975, -0.5997648685337484, '50.89%')])"
      ]
     },
     "execution_count": 8,
     "metadata": {},
     "output_type": "execute_result"
    },
    {
     "data": {
      "text/plain": [
       "Text(0.5, 1.0, '会员与非会员总订单占比')"
      ]
     },
     "execution_count": 8,
     "metadata": {},
     "output_type": "execute_result"
    },
    {
     "data": {
      "image/png": "[encoded data removed]",
      "text/plain": [
       "<Figure size 432x288 with 1 Axes>"
      ]
     },
     "metadata": {},
     "output_type": "display_data"
    }
   ],
   "source": [
    "plt.pie(orders,labels = ['会员','非会员'],autopct = '%1.2f%%',explode = (0.05, 0))\n",
    "plt.title('会员与非会员总订单占比')\n",
    "plt.show()"
   ]
  },
  {
   "cell_type": "markdown",
   "metadata": {},
   "source": [
    "### 会员的总消费金额占比"
   ]
  },
  {
   "cell_type": "code",
   "execution_count": 62,
   "metadata": {},
   "outputs": [
    {
     "data": {
      "text/plain": [
       "([<matplotlib.patches.Wedge at 0x121d99d90>,\n",
       "  <matplotlib.patches.Wedge at 0x1237a6510>],\n",
       " [Text(-0.30494604879920123, 1.1088317759343638, '会员'),\n",
       "  Text(0.29168762424093486, -1.0606216714100647, '非会员')],\n",
       " [Text(-0.17236081019085286, 0.6267310037889882, '58.54%'),\n",
       "  Text(0.15910234049505537, -0.5785209116782171, '41.46%')])"
      ]
     },
     "execution_count": 62,
     "metadata": {},
     "output_type": "execute_result"
    },
    {
     "data": {
      "text/plain": [
       "Text(0.5, 1.0, '会员与非会员消费金额占比')"
      ]
     },
     "execution_count": 62,
     "metadata": {},
     "output_type": "execute_result"
    },
    {
     "data": {
      "image/png": "[encoded data removed]",
      "text/plain": [
       "<Figure size 432x288 with 1 Axes>"
      ]
     },
     "metadata": {},
     "output_type": "display_data"
    }
   ],
   "source": [
    "cost = [np.sum(data[data['kh'].notnull() == True]['je']),\n",
    "         np.sum(data[data['kh'].notnull() == False]['je'])]\n",
    "plt.pie(cost,labels = ['会员','非会员'],autopct = '%1.2f%%',explode = (0.05,0))\n",
    "plt.title('会员与非会员消费金额占比')\n",
    "plt.show()"
   ]
  },
  {
   "cell_type": "markdown",
   "metadata": {},
   "source": [
    "### 不同年份的会员消费金额"
   ]
  },
  {
   "cell_type": "code",
   "execution_count": 7,
   "metadata": {},
   "outputs": [],
   "source": [
    "data = pd.read_csv('mb_sell.csv')\n",
    "data['dtime'] = pd.to_datetime(data['dtime'])"
   ]
  },
  {
   "cell_type": "code",
   "execution_count": 8,
   "metadata": {},
   "outputs": [
    {
     "data": {
      "text/plain": [
       "<BarContainer object of 4 artists>"
      ]
     },
     "execution_count": 8,
     "metadata": {},
     "output_type": "execute_result"
    },
    {
     "data": {
      "text/plain": [
       "Text(0.5, 0, '年份')"
      ]
     },
     "execution_count": 8,
     "metadata": {},
     "output_type": "execute_result"
    },
    {
     "data": {
      "text/plain": [
       "Text(0, 0.5, '消费总额')"
      ]
     },
     "execution_count": 8,
     "metadata": {},
     "output_type": "execute_result"
    },
    {
     "data": {
      "text/plain": [
       "([<matplotlib.axis.XTick at 0x125533790>,\n",
       "  <matplotlib.axis.XTick at 0x125523dd0>,\n",
       "  <matplotlib.axis.XTick at 0x125523b10>,\n",
       "  <matplotlib.axis.XTick at 0x11ab55210>],\n",
       " <a list of 4 Text xticklabel objects>)"
      ]
     },
     "execution_count": 8,
     "metadata": {},
     "output_type": "execute_result"
    },
    {
     "data": {
      "image/png": "[encoded data removed]",
      "text/plain": [
       "<Figure size 432x288 with 1 Axes>"
      ]
     },
     "metadata": {
      "needs_background": "light"
     },
     "output_type": "display_data"
    }
   ],
   "source": [
    "year_cost = []\n",
    "for i in range(2015,2019):\n",
    "    year_cost.append(data[data['dtime'].dt.year == i]['je'].sum())\n",
    "plt.bar(range(4), year_cost, width = 0.3)\n",
    "plt.xlabel('年份')\n",
    "plt.ylabel('消费总额')\n",
    "plt.xticks(range(4), ['2015','2016','2017','2018'])\n",
    "plt.show()"
   ]
  },
  {
   "cell_type": "code",
   "execution_count": 9,
   "metadata": {},
   "outputs": [
    {
     "data": {
      "text/plain": [
       "[<matplotlib.lines.Line2D at 0x117588510>]"
      ]
     },
     "execution_count": 9,
     "metadata": {},
     "output_type": "execute_result"
    },
    {
     "data": {
      "text/plain": [
       "Text(0.5, 1.0, '2015年各月消费总额')"
      ]
     },
     "execution_count": 9,
     "metadata": {},
     "output_type": "execute_result"
    },
    {
     "data": {
      "text/plain": [
       "Text(0.5, 0, '月份')"
      ]
     },
     "execution_count": 9,
     "metadata": {},
     "output_type": "execute_result"
    },
    {
     "data": {
      "text/plain": [
       "Text(0, 0.5, '消费金额')"
      ]
     },
     "execution_count": 9,
     "metadata": {},
     "output_type": "execute_result"
    },
    {
     "data": {
      "image/png": "[encoded data removed]",
      "text/plain": [
       "<Figure size 432x288 with 1 Axes>"
      ]
     },
     "metadata": {
      "needs_background": "light"
     },
     "output_type": "display_data"
    },
    {
     "data": {
      "text/plain": [
       "[<matplotlib.lines.Line2D at 0x11bc6e650>]"
      ]
     },
     "execution_count": 9,
     "metadata": {},
     "output_type": "execute_result"
    },
    {
     "data": {
      "text/plain": [
       "Text(0.5, 1.0, '2016年各月消费总额')"
      ]
     },
     "execution_count": 9,
     "metadata": {},
     "output_type": "execute_result"
    },
    {
     "data": {
      "text/plain": [
       "Text(0.5, 0, '月份')"
      ]
     },
     "execution_count": 9,
     "metadata": {},
     "output_type": "execute_result"
    },
    {
     "data": {
      "text/plain": [
       "Text(0, 0.5, '消费金额')"
      ]
     },
     "execution_count": 9,
     "metadata": {},
     "output_type": "execute_result"
    },
    {
     "data": {
      "image/png": "[encoded data removed]",
      "text/plain": [
       "<Figure size 432x288 with 1 Axes>"
      ]
     },
     "metadata": {
      "needs_background": "light"
     },
     "output_type": "display_data"
    },
    {
     "data": {
      "text/plain": [
       "[<matplotlib.lines.Line2D at 0x121fa0ed0>]"
      ]
     },
     "execution_count": 9,
     "metadata": {},
     "output_type": "execute_result"
    },
    {
     "data": {
      "text/plain": [
       "Text(0.5, 1.0, '2017年各月消费总额')"
      ]
     },
     "execution_count": 9,
     "metadata": {},
     "output_type": "execute_result"
    },
    {
     "data": {
      "text/plain": [
       "Text(0.5, 0, '月份')"
      ]
     },
     "execution_count": 9,
     "metadata": {},
     "output_type": "execute_result"
    },
    {
     "data": {
      "text/plain": [
       "Text(0, 0.5, '消费金额')"
      ]
     },
     "execution_count": 9,
     "metadata": {},
     "output_type": "execute_result"
    },
    {
     "data": {
      "image/png": "[encoded data removed]",
      "text/plain": [
       "<Figure size 432x288 with 1 Axes>"
      ]
     },
     "metadata": {
      "needs_background": "light"
     },
     "output_type": "display_data"
    },
    {
     "data": {
      "text/plain": [
       "[<matplotlib.lines.Line2D at 0x11bc87150>]"
      ]
     },
     "execution_count": 9,
     "metadata": {},
     "output_type": "execute_result"
    },
    {
     "data": {
      "text/plain": [
       "Text(0.5, 1.0, '2018年各月消费总额')"
      ]
     },
     "execution_count": 9,
     "metadata": {},
     "output_type": "execute_result"
    },
    {
     "data": {
      "text/plain": [
       "Text(0.5, 0, '月份')"
      ]
     },
     "execution_count": 9,
     "metadata": {},
     "output_type": "execute_result"
    },
    {
     "data": {
      "text/plain": [
       "Text(0, 0.5, '消费金额')"
      ]
     },
     "execution_count": 9,
     "metadata": {},
     "output_type": "execute_result"
    },
    {
     "data": {
      "image/png": "[encoded data removed]",
      "text/plain": [
       "<Figure size 432x288 with 1 Axes>"
      ]
     },
     "metadata": {
      "needs_background": "light"
     },
     "output_type": "display_data"
    }
   ],
   "source": [
    "for i in range(2015, 2019):\n",
    "    mon_cost = []\n",
    "    for j in range(1,13):\n",
    "        mon_cost.append(data[(data['dtime'].dt.year == i) & \n",
    "                                      (data['dtime'].dt.month == j)]['je'].sum())\n",
    "    plt.plot(range(1,1+len(mon_cost)), mon_cost)\n",
    "    plt.title(str(i) + \"年各月消费总额\")\n",
    "    plt.xlabel(\"月份\")\n",
    "    plt.ylabel(\"消费金额\")\n",
    "    plt.show()"
   ]
  },
  {
   "cell_type": "markdown",
   "metadata": {},
   "source": [
    "## 分析以季度和小时为单位，分析不同时间段会员的消费时间偏好"
   ]
  },
  {
   "cell_type": "markdown",
   "metadata": {},
   "source": [
    "### 会员各季度总消费情况分析"
   ]
  },
  {
   "cell_type": "code",
   "execution_count": 10,
   "metadata": {},
   "outputs": [
    {
     "data": {
      "text/plain": [
       "kh          0\n",
       "csrq        0\n",
       "xb       1603\n",
       "djsj        0\n",
       "dtime       0\n",
       "spbm        0\n",
       "sl          0\n",
       "sj          0\n",
       "je          0\n",
       "spmc        0\n",
       "jf          0\n",
       "syjh        0\n",
       "djh         0\n",
       "gzbm        0\n",
       "gzmc     6943\n",
       "dtype: int64"
      ]
     },
     "execution_count": 10,
     "metadata": {},
     "output_type": "execute_result"
    }
   ],
   "source": [
    "data.isnull().sum()"
   ]
  },
  {
   "cell_type": "code",
   "execution_count": 32,
   "metadata": {},
   "outputs": [],
   "source": [
    "data['dtime'] = pd.to_datetime(data['dtime'])"
   ]
  },
  {
   "cell_type": "code",
   "execution_count": 33,
   "metadata": {},
   "outputs": [],
   "source": [
    "import datetime as dt"
   ]
  },
  {
   "cell_type": "code",
   "execution_count": 34,
   "metadata": {},
   "outputs": [],
   "source": [
    "data['month'] = data['dtime'].dt.month.replace(12,0)"
   ]
  },
  {
   "cell_type": "code",
   "execution_count": 12,
   "metadata": {},
   "outputs": [
    {
     "data": {
      "text/html": [
       "<div>\n",
       "<style scoped>\n",
       "    .dataframe tbody tr th:only-of-type {\n",
       "        vertical-align: middle;\n",
       "    }\n",
       "\n",
       "    .dataframe tbody tr th {\n",
       "        vertical-align: top;\n",
       "    }\n",
       "\n",
       "    .dataframe thead th {\n",
       "        text-align: right;\n",
       "    }\n",
       "</style>\n",
       "<table border=\"1\" class=\"dataframe\">\n",
       "  <thead>\n",
       "    <tr style=\"text-align: right;\">\n",
       "      <th></th>\n",
       "      <th>kh</th>\n",
       "      <th>csrq</th>\n",
       "      <th>xb</th>\n",
       "      <th>djsj</th>\n",
       "      <th>dtime</th>\n",
       "      <th>spbm</th>\n",
       "      <th>sl</th>\n",
       "      <th>sj</th>\n",
       "      <th>je</th>\n",
       "      <th>spmc</th>\n",
       "      <th>jf</th>\n",
       "      <th>syjh</th>\n",
       "      <th>djh</th>\n",
       "      <th>gzbm</th>\n",
       "      <th>gzmc</th>\n",
       "      <th>quarter</th>\n",
       "    </tr>\n",
       "  </thead>\n",
       "  <tbody>\n",
       "    <tr>\n",
       "      <th>0</th>\n",
       "      <td>a37cc182</td>\n",
       "      <td>1967-02-17</td>\n",
       "      <td>0.0</td>\n",
       "      <td>2004-12-31 21:24:34.216</td>\n",
       "      <td>2016-09-25 10:49:14.016</td>\n",
       "      <td>d62a69e3</td>\n",
       "      <td>297.07</td>\n",
       "      <td>499.0</td>\n",
       "      <td>297.07</td>\n",
       "      <td>WMF D无</td>\n",
       "      <td>297.07</td>\n",
       "      <td>101.0</td>\n",
       "      <td>7cd8</td>\n",
       "      <td>7296.0</td>\n",
       "      <td>WMF 柜</td>\n",
       "      <td>秋季</td>\n",
       "    </tr>\n",
       "    <tr>\n",
       "      <th>1</th>\n",
       "      <td>a37cc182</td>\n",
       "      <td>1967-02-17</td>\n",
       "      <td>0.0</td>\n",
       "      <td>2004-12-31 21:24:34.216</td>\n",
       "      <td>2016-09-25 10:49:14.016</td>\n",
       "      <td>d62a69e3</td>\n",
       "      <td>11089.93</td>\n",
       "      <td>12288.0</td>\n",
       "      <td>11089.93</td>\n",
       "      <td>WMF D无</td>\n",
       "      <td>11089.93</td>\n",
       "      <td>101.0</td>\n",
       "      <td>7cd8</td>\n",
       "      <td>7296.0</td>\n",
       "      <td>WMF 柜</td>\n",
       "      <td>秋季</td>\n",
       "    </tr>\n",
       "    <tr>\n",
       "      <th>2</th>\n",
       "      <td>a37cc182</td>\n",
       "      <td>1967-02-17</td>\n",
       "      <td>0.0</td>\n",
       "      <td>2004-12-31 21:24:34.216</td>\n",
       "      <td>2017-02-28 17:17:35.533</td>\n",
       "      <td>252403ef</td>\n",
       "      <td>598.00</td>\n",
       "      <td>598.0</td>\n",
       "      <td>598.00</td>\n",
       "      <td>双立人商品 F无</td>\n",
       "      <td>598.00</td>\n",
       "      <td>102.0</td>\n",
       "      <td>ed0a</td>\n",
       "      <td>7242.0</td>\n",
       "      <td>双立人柜</td>\n",
       "      <td>冬季</td>\n",
       "    </tr>\n",
       "    <tr>\n",
       "      <th>3</th>\n",
       "      <td>34c2dc93</td>\n",
       "      <td>1986-07-18</td>\n",
       "      <td>0.0</td>\n",
       "      <td>2007-04-19 00:00:00.000</td>\n",
       "      <td>2017-11-13 13:36:45.656</td>\n",
       "      <td>4708e0bb</td>\n",
       "      <td>260.00</td>\n",
       "      <td>260.0</td>\n",
       "      <td>260.00</td>\n",
       "      <td>植村秀三色眼影/眼线液/眉笔.</td>\n",
       "      <td>260.00</td>\n",
       "      <td>97.0</td>\n",
       "      <td>c3f4</td>\n",
       "      <td>8156.0</td>\n",
       "      <td>Shu Uemura</td>\n",
       "      <td>秋季</td>\n",
       "    </tr>\n",
       "    <tr>\n",
       "      <th>4</th>\n",
       "      <td>828aa9b4</td>\n",
       "      <td>1951-12-29</td>\n",
       "      <td>0.0</td>\n",
       "      <td>2004-09-24 16:39:08.716</td>\n",
       "      <td>2017-05-17 11:30:39.080</td>\n",
       "      <td>a4809307</td>\n",
       "      <td>1288.00</td>\n",
       "      <td>1288.0</td>\n",
       "      <td>1288.00</td>\n",
       "      <td>酷彩F件</td>\n",
       "      <td>1288.00</td>\n",
       "      <td>102.0</td>\n",
       "      <td>95b0</td>\n",
       "      <td>7300.0</td>\n",
       "      <td>Le Creuset(酷彩)</td>\n",
       "      <td>春季</td>\n",
       "    </tr>\n",
       "  </tbody>\n",
       "</table>\n",
       "</div>"
      ],
      "text/plain": [
       "         kh        csrq   xb                     djsj                   dtime  \\\n",
       "0  a37cc182  1967-02-17  0.0  2004-12-31 21:24:34.216 2016-09-25 10:49:14.016   \n",
       "1  a37cc182  1967-02-17  0.0  2004-12-31 21:24:34.216 2016-09-25 10:49:14.016   \n",
       "2  a37cc182  1967-02-17  0.0  2004-12-31 21:24:34.216 2017-02-28 17:17:35.533   \n",
       "3  34c2dc93  1986-07-18  0.0  2007-04-19 00:00:00.000 2017-11-13 13:36:45.656   \n",
       "4  828aa9b4  1951-12-29  0.0  2004-09-24 16:39:08.716 2017-05-17 11:30:39.080   \n",
       "\n",
       "       spbm        sl       sj        je             spmc        jf   syjh  \\\n",
       "0  d62a69e3    297.07    499.0    297.07           WMF D无    297.07  101.0   \n",
       "1  d62a69e3  11089.93  12288.0  11089.93           WMF D无  11089.93  101.0   \n",
       "2  252403ef    598.00    598.0    598.00         双立人商品 F无    598.00  102.0   \n",
       "3  4708e0bb    260.00    260.0    260.00  植村秀三色眼影/眼线液/眉笔.    260.00   97.0   \n",
       "4  a4809307   1288.00   1288.0   1288.00             酷彩F件   1288.00  102.0   \n",
       "\n",
       "    djh    gzbm            gzmc quarter  \n",
       "0  7cd8  7296.0           WMF 柜      秋季  \n",
       "1  7cd8  7296.0           WMF 柜      秋季  \n",
       "2  ed0a  7242.0            双立人柜      冬季  \n",
       "3  c3f4  8156.0      Shu Uemura      秋季  \n",
       "4  95b0  7300.0  Le Creuset(酷彩)      春季  "
      ]
     },
     "execution_count": 12,
     "metadata": {},
     "output_type": "execute_result"
    }
   ],
   "source": [
    "data['quarter'] = pd.cut(data['dtime'].dt.month,bins=[0,2,5,8,11],labels = ['冬季','春季','夏季','秋季'])\n",
    "data.head()"
   ]
  },
  {
   "cell_type": "code",
   "execution_count": 13,
   "metadata": {},
   "outputs": [],
   "source": [
    "quarter_labs = [np.sum(data['quarter'] == '春季'),\n",
    "                np.sum(data['quarter'] == '夏季'),\n",
    "                np.sum(data['quarter'] == '秋季'),\n",
    "                np.sum(data['quarter'] == '冬季')]"
   ]
  },
  {
   "cell_type": "code",
   "execution_count": 14,
   "metadata": {},
   "outputs": [
    {
     "data": {
      "text/plain": [
       "([<matplotlib.patches.Wedge at 0x11fc98190>,\n",
       "  <matplotlib.patches.Wedge at 0x121180190>,\n",
       "  <matplotlib.patches.Wedge at 0x121180650>,\n",
       "  <matplotlib.patches.Wedge at 0x122273490>],\n",
       " [Text(0.6423987994663041, 1.013569821198447, '春季'),\n",
       "  Text(-1.167421369175363, 0.2777181067066405, '夏季'),\n",
       "  Text(-0.17957003047514114, -1.1864883497764136, '秋季'),\n",
       "  Text(1.0635293312114857, -0.5557925527144548, '冬季')],\n",
       " [Text(0.3747326330220107, 0.5912490623657606, '32.02%'),\n",
       "  Text(-0.6809957986856284, 0.16200222891220692, '28.53%'),\n",
       "  Text(-0.10474918444383231, -0.6921182040362411, '24.12%'),\n",
       "  Text(0.6203921098733667, -0.32421232241676523, '15.33%')])"
      ]
     },
     "execution_count": 14,
     "metadata": {},
     "output_type": "execute_result"
    },
    {
     "data": {
      "text/plain": [
       "Text(0.5, 1.0, '各季度消费订单占比')"
      ]
     },
     "execution_count": 14,
     "metadata": {},
     "output_type": "execute_result"
    },
    {
     "data": {
      "image/png": "[encoded data removed]",
      "text/plain": [
       "<Figure size 432x288 with 1 Axes>"
      ]
     },
     "metadata": {},
     "output_type": "display_data"
    }
   ],
   "source": [
    "plt.pie(quarter_labs,labels = ['春季','夏季','秋季','冬季'],autopct = '%1.2f%%',explode = (0.1,0.1,0.1,0.1))\n",
    "plt.title('各季度消费订单占比')\n",
    "plt.show()"
   ]
  },
  {
   "cell_type": "markdown",
   "metadata": {},
   "source": [
    "### 会员一天时间段消费情况分析"
   ]
  },
  {
   "cell_type": "code",
   "execution_count": 45,
   "metadata": {},
   "outputs": [
    {
     "data": {
      "text/plain": [
       "count    1.893532e+06\n",
       "mean     1.585531e+01\n",
       "std      3.180566e+00\n",
       "min      0.000000e+00\n",
       "25%      1.300000e+01\n",
       "50%      1.600000e+01\n",
       "75%      1.800000e+01\n",
       "max      2.300000e+01\n",
       "Name: dtime, dtype: float64"
      ]
     },
     "execution_count": 45,
     "metadata": {},
     "output_type": "execute_result"
    }
   ],
   "source": [
    "data['dtime'].dt.hour.describe()"
   ]
  },
  {
   "cell_type": "code",
   "execution_count": 15,
   "metadata": {},
   "outputs": [],
   "source": [
    "data['time_lab'] = pd.cut(data['dtime'].dt.hour,\n",
    "                          bins=[0,5,11,13,17,24],labels = ['凌晨','早上','中午','下午','晚上'])"
   ]
  },
  {
   "cell_type": "code",
   "execution_count": 16,
   "metadata": {},
   "outputs": [],
   "source": [
    "time_labs = [np.sum(data['time_lab'] == '凌晨'),\n",
    "             np.sum(data['time_lab'] == '早上'),\n",
    "             np.sum(data['time_lab'] == '中午'),\n",
    "                np.sum(data['time_lab'] == '下午'),\n",
    "                np.sum(data['time_lab'] == '晚上')]"
   ]
  },
  {
   "cell_type": "code",
   "execution_count": 17,
   "metadata": {},
   "outputs": [
    {
     "data": {
      "text/plain": [
       "([<matplotlib.patches.Wedge at 0x121fc85d0>,\n",
       "  <matplotlib.patches.Wedge at 0x121fc8d50>,\n",
       "  <matplotlib.patches.Wedge at 0x121fff550>,\n",
       "  <matplotlib.patches.Wedge at 0x121fffd50>,\n",
       "  <matplotlib.patches.Wedge at 0x121ff3790>],\n",
       " [Text(1.1999999557110574, 0.00032602677859891146, '凌晨'),\n",
       "  Text(1.1317835216992884, 0.3988308664207882, '早上'),\n",
       "  Text(0.42152441382385347, 1.1235288908392418, '中午'),\n",
       "  Text(-1.196738847129029, 0.08840888966773991, '下午'),\n",
       "  Text(0.7008692659747218, -0.9740545528932427, '晚上')],\n",
       " [Text(0.6999999741647834, 0.00019018228751603168, '0.01%'),\n",
       "  Text(0.6602070543245849, 0.23265133874545973, '10.77%'),\n",
       "  Text(0.24588924139724783, 0.6553918529895577, '17.02%'),\n",
       "  Text(-0.6980976608252669, 0.05157185230618161, '42.05%'),\n",
       "  Text(0.408840405151921, -0.5681984891877248, '30.15%')])"
      ]
     },
     "execution_count": 17,
     "metadata": {},
     "output_type": "execute_result"
    },
    {
     "data": {
      "text/plain": [
       "Text(0.5, 1.0, '会员一天时间段消费订单数占比')"
      ]
     },
     "execution_count": 17,
     "metadata": {},
     "output_type": "execute_result"
    },
    {
     "data": {
      "image/png": "[encoded data removed]",
      "text/plain": [
       "<Figure size 432x288 with 1 Axes>"
      ]
     },
     "metadata": {},
     "output_type": "display_data"
    }
   ],
   "source": [
    "plt.pie(time_labs,labels = ['凌晨','早上','中午','下午','晚上'],\n",
    "        autopct = '%1.2f%%',explode = (0.1,0.1,0.1,0.1,0.1))\n",
    "plt.title('会员一天时间段消费订单数占比')\n",
    "plt.show()"
   ]
  }
 ],
 "metadata": {
  "kernelspec": {
   "display_name": "Python 3",
   "language": "python",
   "name": "python3"
  },
  "language_info": {
   "codemirror_mode": {
    "name": "ipython",
    "version": 3
   },
   "file_extension": ".py",
   "mimetype": "text/x-python",
   "name": "python",
   "nbconvert_exporter": "python",
   "pygments_lexer": "ipython3",
   "version": "3.7.4"
  }
 },
 "nbformat": 4,
 "nbformat_minor": 4
}
