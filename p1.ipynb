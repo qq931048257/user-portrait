{
 "cells": [
  {
   "cell_type": "markdown",
   "metadata": {},
   "source": [
    "# 任务一"
   ]
  },
  {
   "cell_type": "code",
   "execution_count": 1,
   "metadata": {
    "ExecuteTime": {
     "end_time": "2020-06-29T13:29:28.396128Z",
     "start_time": "2020-06-29T13:29:01.541276Z"
    }
   },
   "outputs": [
    {
     "name": "stderr",
     "output_type": "stream",
     "text": [
      "/Users/quanzai/opt/anaconda3/lib/python3.7/site-packages/IPython/core/interactiveshell.py:3063: DtypeWarning: Columns (0,11) have mixed types.Specify dtype option on import or set low_memory=False.\n",
      "  interactivity=interactivity, compiler=compiler, result=result)\n"
     ]
    }
   ],
   "source": [
    "import numpy as np\n",
    "import pandas as pd\n",
    "# 读取数据\n",
    "mb = pd.read_excel('cumcm2018c1.xlsx') #会员信息表\n",
    "sell = pd.read_csv('cumcm2018c2.csv') #商场销售流水表"
   ]
  },
  {
   "cell_type": "code",
   "execution_count": 3,
   "metadata": {},
   "outputs": [
    {
     "data": {
      "text/html": [
       "<div>\n",
       "<style scoped>\n",
       "    .dataframe tbody tr th:only-of-type {\n",
       "        vertical-align: middle;\n",
       "    }\n",
       "\n",
       "    .dataframe tbody tr th {\n",
       "        vertical-align: top;\n",
       "    }\n",
       "\n",
       "    .dataframe thead th {\n",
       "        text-align: right;\n",
       "    }\n",
       "</style>\n",
       "<table border=\"1\" class=\"dataframe\">\n",
       "  <thead>\n",
       "    <tr style=\"text-align: right;\">\n",
       "      <th></th>\n",
       "      <th>kh</th>\n",
       "      <th>csrq</th>\n",
       "      <th>xb</th>\n",
       "      <th>djsj</th>\n",
       "    </tr>\n",
       "  </thead>\n",
       "  <tbody>\n",
       "    <tr>\n",
       "      <th>0</th>\n",
       "      <td>c68b20b4</td>\n",
       "      <td>2002-11-02 00:00:00</td>\n",
       "      <td>0.0</td>\n",
       "      <td>2013-05-11 00:00:00.000</td>\n",
       "    </tr>\n",
       "    <tr>\n",
       "      <th>1</th>\n",
       "      <td>1ca15332</td>\n",
       "      <td>NaN</td>\n",
       "      <td>0.0</td>\n",
       "      <td>2004-11-04 16:31:52.436</td>\n",
       "    </tr>\n",
       "    <tr>\n",
       "      <th>2</th>\n",
       "      <td>a37cc182</td>\n",
       "      <td>1967-02-17 00:00:00</td>\n",
       "      <td>0.0</td>\n",
       "      <td>2004-12-31 21:24:34.216</td>\n",
       "    </tr>\n",
       "    <tr>\n",
       "      <th>3</th>\n",
       "      <td>2ab88539</td>\n",
       "      <td>1982-06-01 00:00:00</td>\n",
       "      <td>0.0</td>\n",
       "      <td>2010-11-19 00:00:00.000</td>\n",
       "    </tr>\n",
       "    <tr>\n",
       "      <th>4</th>\n",
       "      <td>b4c77269</td>\n",
       "      <td>1964-02-05 00:00:00</td>\n",
       "      <td>0.0</td>\n",
       "      <td>2007-12-14 00:00:00.000</td>\n",
       "    </tr>\n",
       "  </tbody>\n",
       "</table>\n",
       "</div>"
      ],
      "text/plain": [
       "         kh                 csrq   xb                    djsj\n",
       "0  c68b20b4  2002-11-02 00:00:00  0.0 2013-05-11 00:00:00.000\n",
       "1  1ca15332                  NaN  0.0 2004-11-04 16:31:52.436\n",
       "2  a37cc182  1967-02-17 00:00:00  0.0 2004-12-31 21:24:34.216\n",
       "3  2ab88539  1982-06-01 00:00:00  0.0 2010-11-19 00:00:00.000\n",
       "4  b4c77269  1964-02-05 00:00:00  0.0 2007-12-14 00:00:00.000"
      ]
     },
     "execution_count": 3,
     "metadata": {},
     "output_type": "execute_result"
    }
   ],
   "source": [
    "mb.head()"
   ]
  },
  {
   "cell_type": "code",
   "execution_count": 4,
   "metadata": {},
   "outputs": [
    {
     "data": {
      "text/html": [
       "<div>\n",
       "<style scoped>\n",
       "    .dataframe tbody tr th:only-of-type {\n",
       "        vertical-align: middle;\n",
       "    }\n",
       "\n",
       "    .dataframe tbody tr th {\n",
       "        vertical-align: top;\n",
       "    }\n",
       "\n",
       "    .dataframe thead th {\n",
       "        text-align: right;\n",
       "    }\n",
       "</style>\n",
       "<table border=\"1\" class=\"dataframe\">\n",
       "  <thead>\n",
       "    <tr style=\"text-align: right;\">\n",
       "      <th></th>\n",
       "      <th>kh</th>\n",
       "      <th>dtime</th>\n",
       "      <th>spbm</th>\n",
       "      <th>sl</th>\n",
       "      <th>sj</th>\n",
       "      <th>je</th>\n",
       "      <th>spmc</th>\n",
       "      <th>jf</th>\n",
       "      <th>syjh</th>\n",
       "      <th>djh</th>\n",
       "      <th>gzbm</th>\n",
       "      <th>gzmc</th>\n",
       "    </tr>\n",
       "  </thead>\n",
       "  <tbody>\n",
       "    <tr>\n",
       "      <th>0</th>\n",
       "      <td>1be1e3fe</td>\n",
       "      <td>2015-01-01 00:05:41.593</td>\n",
       "      <td>f09c9303</td>\n",
       "      <td>1</td>\n",
       "      <td>290.0</td>\n",
       "      <td>270.20</td>\n",
       "      <td>兰芝化妆品正价瓶</td>\n",
       "      <td>270.20</td>\n",
       "      <td>6</td>\n",
       "      <td>25bb</td>\n",
       "      <td>8077.0</td>\n",
       "      <td>兰芝柜</td>\n",
       "    </tr>\n",
       "    <tr>\n",
       "      <th>1</th>\n",
       "      <td>1be1e3fe</td>\n",
       "      <td>2015-01-01 00:05:41.593</td>\n",
       "      <td>f09c9303</td>\n",
       "      <td>1</td>\n",
       "      <td>325.0</td>\n",
       "      <td>302.80</td>\n",
       "      <td>兰芝化妆品正价瓶</td>\n",
       "      <td>302.80</td>\n",
       "      <td>6</td>\n",
       "      <td>25bb</td>\n",
       "      <td>8077.0</td>\n",
       "      <td>兰芝柜</td>\n",
       "    </tr>\n",
       "    <tr>\n",
       "      <th>2</th>\n",
       "      <td>1be1e3fe</td>\n",
       "      <td>2015-01-01 00:05:41.593</td>\n",
       "      <td>f09c9303</td>\n",
       "      <td>1</td>\n",
       "      <td>195.0</td>\n",
       "      <td>181.80</td>\n",
       "      <td>兰芝化妆品正价瓶</td>\n",
       "      <td>181.80</td>\n",
       "      <td>6</td>\n",
       "      <td>25bb</td>\n",
       "      <td>8077.0</td>\n",
       "      <td>兰芝柜</td>\n",
       "    </tr>\n",
       "    <tr>\n",
       "      <th>3</th>\n",
       "      <td>1be1e3fe</td>\n",
       "      <td>2015-01-01 00:05:41.593</td>\n",
       "      <td>f09c9303</td>\n",
       "      <td>1</td>\n",
       "      <td>270.0</td>\n",
       "      <td>251.55</td>\n",
       "      <td>兰芝化妆品正价瓶</td>\n",
       "      <td>251.55</td>\n",
       "      <td>6</td>\n",
       "      <td>25bb</td>\n",
       "      <td>8077.0</td>\n",
       "      <td>兰芝柜</td>\n",
       "    </tr>\n",
       "    <tr>\n",
       "      <th>4</th>\n",
       "      <td>1be1e3fe</td>\n",
       "      <td>2015-01-01 00:05:41.593</td>\n",
       "      <td>f09c9303</td>\n",
       "      <td>2</td>\n",
       "      <td>245.0</td>\n",
       "      <td>456.55</td>\n",
       "      <td>兰芝化妆品正价瓶</td>\n",
       "      <td>456.55</td>\n",
       "      <td>6</td>\n",
       "      <td>25bb</td>\n",
       "      <td>8077.0</td>\n",
       "      <td>兰芝柜</td>\n",
       "    </tr>\n",
       "  </tbody>\n",
       "</table>\n",
       "</div>"
      ],
      "text/plain": [
       "         kh                    dtime      spbm  sl     sj      je      spmc  \\\n",
       "0  1be1e3fe  2015-01-01 00:05:41.593  f09c9303   1  290.0  270.20  兰芝化妆品正价瓶   \n",
       "1  1be1e3fe  2015-01-01 00:05:41.593  f09c9303   1  325.0  302.80  兰芝化妆品正价瓶   \n",
       "2  1be1e3fe  2015-01-01 00:05:41.593  f09c9303   1  195.0  181.80  兰芝化妆品正价瓶   \n",
       "3  1be1e3fe  2015-01-01 00:05:41.593  f09c9303   1  270.0  251.55  兰芝化妆品正价瓶   \n",
       "4  1be1e3fe  2015-01-01 00:05:41.593  f09c9303   2  245.0  456.55  兰芝化妆品正价瓶   \n",
       "\n",
       "       jf  syjh   djh    gzbm gzmc  \n",
       "0  270.20     6  25bb  8077.0  兰芝柜  \n",
       "1  302.80     6  25bb  8077.0  兰芝柜  \n",
       "2  181.80     6  25bb  8077.0  兰芝柜  \n",
       "3  251.55     6  25bb  8077.0  兰芝柜  \n",
       "4  456.55     6  25bb  8077.0  兰芝柜  "
      ]
     },
     "execution_count": 4,
     "metadata": {},
     "output_type": "execute_result"
    }
   ],
   "source": [
    "sell.head()"
   ]
  },
  {
   "cell_type": "markdown",
   "metadata": {},
   "source": [
    "## 重复值处理"
   ]
  },
  {
   "cell_type": "code",
   "execution_count": 2,
   "metadata": {},
   "outputs": [
    {
     "data": {
      "text/plain": [
       "(194760, 4)"
      ]
     },
     "execution_count": 2,
     "metadata": {},
     "output_type": "execute_result"
    },
    {
     "data": {
      "text/plain": [
       "(1893532, 12)"
      ]
     },
     "execution_count": 2,
     "metadata": {},
     "output_type": "execute_result"
    }
   ],
   "source": [
    "#原始数据的大小\n",
    "mb.shape\n",
    "sell.shape"
   ]
  },
  {
   "cell_type": "code",
   "execution_count": 3,
   "metadata": {},
   "outputs": [
    {
     "data": {
      "text/plain": [
       "(194754, 4)"
      ]
     },
     "execution_count": 3,
     "metadata": {},
     "output_type": "execute_result"
    },
    {
     "data": {
      "text/plain": [
       "(1893532, 12)"
      ]
     },
     "execution_count": 3,
     "metadata": {},
     "output_type": "execute_result"
    }
   ],
   "source": [
    "mb = mb.drop_duplicates(subset=['kh']) #会员信息会员卡号去重\n",
    "sell = sell.drop_duplicates() #商场销售流水表去重\n",
    "mb.shape\n",
    "sell.shape"
   ]
  },
  {
   "cell_type": "markdown",
   "metadata": {},
   "source": [
    "## 缺失值处理"
   ]
  },
  {
   "cell_type": "code",
   "execution_count": 4,
   "metadata": {},
   "outputs": [
    {
     "data": {
      "text/plain": [
       "kh          0\n",
       "csrq    34187\n",
       "xb       9435\n",
       "djsj    12684\n",
       "dtype: int64"
      ]
     },
     "execution_count": 4,
     "metadata": {},
     "output_type": "execute_result"
    },
    {
     "data": {
      "text/plain": [
       "kh       1017486\n",
       "dtime          0\n",
       "spbm           0\n",
       "sl             0\n",
       "sj             0\n",
       "je             0\n",
       "spmc           0\n",
       "jf       1017486\n",
       "syjh           0\n",
       "djh            0\n",
       "gzbm     1017486\n",
       "gzmc     1036956\n",
       "dtype: int64"
      ]
     },
     "execution_count": 4,
     "metadata": {},
     "output_type": "execute_result"
    }
   ],
   "source": [
    "mb.isnull().sum() #空数据检测\n",
    "sell.isnull().sum()"
   ]
  },
  {
   "cell_type": "markdown",
   "metadata": {},
   "source": [
    "数据一由于缺失的会员信息是固定的，无法预测，所以选择删除,\n",
    "数据二的数据包含非会员的销售记录，缺少的卡号信息都是非会员消费信息"
   ]
  },
  {
   "cell_type": "code",
   "execution_count": 5,
   "metadata": {},
   "outputs": [
    {
     "data": {
      "text/plain": [
       "kh      0\n",
       "csrq    0\n",
       "xb      0\n",
       "djsj    0\n",
       "dtype: int64"
      ]
     },
     "execution_count": 5,
     "metadata": {},
     "output_type": "execute_result"
    },
    {
     "data": {
      "text/plain": [
       "(153487, 4)"
      ]
     },
     "execution_count": 5,
     "metadata": {},
     "output_type": "execute_result"
    }
   ],
   "source": [
    "new_mb = mb.dropna() #去除空值后的数据\n",
    "new_mb.isnull().sum()\n",
    "new_mb.shape"
   ]
  },
  {
   "cell_type": "markdown",
   "metadata": {},
   "source": [
    "## 异常值处理"
   ]
  },
  {
   "cell_type": "markdown",
   "metadata": {},
   "source": [
    "## 异常值检测"
   ]
  },
  {
   "cell_type": "code",
   "execution_count": 9,
   "metadata": {},
   "outputs": [
    {
     "ename": "OutOfBoundsDatetime",
     "evalue": "Out of bounds nanosecond timestamp: 9690-01-20 00:00:00",
     "output_type": "error",
     "traceback": [
      "\u001b[0;31m---------------------------------------------------------------------------\u001b[0m",
      "\u001b[0;31mOutOfBoundsDatetime\u001b[0m                       Traceback (most recent call last)",
      "\u001b[0;32m~/opt/anaconda3/lib/python3.7/site-packages/pandas/core/arrays/datetimes.py\u001b[0m in \u001b[0;36mobjects_to_datetime64ns\u001b[0;34m(data, dayfirst, yearfirst, utc, errors, require_iso8601, allow_object)\u001b[0m\n\u001b[1;32m   1855\u001b[0m         \u001b[0;32mtry\u001b[0m\u001b[0;34m:\u001b[0m\u001b[0;34m\u001b[0m\u001b[0;34m\u001b[0m\u001b[0m\n\u001b[0;32m-> 1856\u001b[0;31m             \u001b[0mvalues\u001b[0m\u001b[0;34m,\u001b[0m \u001b[0mtz_parsed\u001b[0m \u001b[0;34m=\u001b[0m \u001b[0mconversion\u001b[0m\u001b[0;34m.\u001b[0m\u001b[0mdatetime_to_datetime64\u001b[0m\u001b[0;34m(\u001b[0m\u001b[0mdata\u001b[0m\u001b[0;34m)\u001b[0m\u001b[0;34m\u001b[0m\u001b[0;34m\u001b[0m\u001b[0m\n\u001b[0m\u001b[1;32m   1857\u001b[0m             \u001b[0;31m# If tzaware, these values represent unix timestamps, so we\u001b[0m\u001b[0;34m\u001b[0m\u001b[0;34m\u001b[0m\u001b[0;34m\u001b[0m\u001b[0m\n",
      "\u001b[0;32mpandas/_libs/tslibs/conversion.pyx\u001b[0m in \u001b[0;36mpandas._libs.tslibs.conversion.datetime_to_datetime64\u001b[0;34m()\u001b[0m\n",
      "\u001b[0;32mpandas/_libs/tslibs/np_datetime.pyx\u001b[0m in \u001b[0;36mpandas._libs.tslibs.np_datetime.check_dts_bounds\u001b[0;34m()\u001b[0m\n",
      "\u001b[0;31mOutOfBoundsDatetime\u001b[0m: Out of bounds nanosecond timestamp: 9690-01-20 00:00:00",
      "\nDuring handling of the above exception, another exception occurred:\n",
      "\u001b[0;31mOutOfBoundsDatetime\u001b[0m                       Traceback (most recent call last)",
      "\u001b[0;32m<ipython-input-9-ae953705d11c>\u001b[0m in \u001b[0;36m<module>\u001b[0;34m\u001b[0m\n\u001b[1;32m      1\u001b[0m \u001b[0msell\u001b[0m\u001b[0;34m[\u001b[0m\u001b[0;34m'dtime'\u001b[0m\u001b[0;34m]\u001b[0m \u001b[0;34m=\u001b[0m \u001b[0mpd\u001b[0m\u001b[0;34m.\u001b[0m\u001b[0mto_datetime\u001b[0m\u001b[0;34m(\u001b[0m\u001b[0msell\u001b[0m\u001b[0;34m[\u001b[0m\u001b[0;34m'dtime'\u001b[0m\u001b[0;34m]\u001b[0m\u001b[0;34m)\u001b[0m\u001b[0;34m\u001b[0m\u001b[0;34m\u001b[0m\u001b[0m\n\u001b[0;32m----> 2\u001b[0;31m \u001b[0mmb\u001b[0m\u001b[0;34m[\u001b[0m\u001b[0;34m'csrq'\u001b[0m\u001b[0;34m]\u001b[0m \u001b[0;34m=\u001b[0m \u001b[0mpd\u001b[0m\u001b[0;34m.\u001b[0m\u001b[0mto_datetime\u001b[0m\u001b[0;34m(\u001b[0m\u001b[0mmb\u001b[0m\u001b[0;34m[\u001b[0m\u001b[0;34m'csrq'\u001b[0m\u001b[0;34m]\u001b[0m\u001b[0;34m)\u001b[0m\u001b[0;34m\u001b[0m\u001b[0;34m\u001b[0m\u001b[0m\n\u001b[0m\u001b[1;32m      3\u001b[0m \u001b[0mmb\u001b[0m\u001b[0;34m[\u001b[0m\u001b[0;34m'djsj'\u001b[0m\u001b[0;34m]\u001b[0m \u001b[0;34m=\u001b[0m \u001b[0mpd\u001b[0m\u001b[0;34m.\u001b[0m\u001b[0mto_datetime\u001b[0m\u001b[0;34m(\u001b[0m\u001b[0mmb\u001b[0m\u001b[0;34m[\u001b[0m\u001b[0;34m'djsj'\u001b[0m\u001b[0;34m]\u001b[0m\u001b[0;34m)\u001b[0m\u001b[0;34m\u001b[0m\u001b[0;34m\u001b[0m\u001b[0m\n",
      "\u001b[0;32m~/opt/anaconda3/lib/python3.7/site-packages/pandas/core/tools/datetimes.py\u001b[0m in \u001b[0;36mto_datetime\u001b[0;34m(arg, errors, dayfirst, yearfirst, utc, format, exact, unit, infer_datetime_format, origin, cache)\u001b[0m\n\u001b[1;32m    726\u001b[0m             \u001b[0mresult\u001b[0m \u001b[0;34m=\u001b[0m \u001b[0marg\u001b[0m\u001b[0;34m.\u001b[0m\u001b[0mmap\u001b[0m\u001b[0;34m(\u001b[0m\u001b[0mcache_array\u001b[0m\u001b[0;34m)\u001b[0m\u001b[0;34m\u001b[0m\u001b[0;34m\u001b[0m\u001b[0m\n\u001b[1;32m    727\u001b[0m         \u001b[0;32melse\u001b[0m\u001b[0;34m:\u001b[0m\u001b[0;34m\u001b[0m\u001b[0;34m\u001b[0m\u001b[0m\n\u001b[0;32m--> 728\u001b[0;31m             \u001b[0mvalues\u001b[0m \u001b[0;34m=\u001b[0m \u001b[0mconvert_listlike\u001b[0m\u001b[0;34m(\u001b[0m\u001b[0marg\u001b[0m\u001b[0;34m.\u001b[0m\u001b[0m_values\u001b[0m\u001b[0;34m,\u001b[0m \u001b[0mformat\u001b[0m\u001b[0;34m)\u001b[0m\u001b[0;34m\u001b[0m\u001b[0;34m\u001b[0m\u001b[0m\n\u001b[0m\u001b[1;32m    729\u001b[0m             \u001b[0mresult\u001b[0m \u001b[0;34m=\u001b[0m \u001b[0marg\u001b[0m\u001b[0;34m.\u001b[0m\u001b[0m_constructor\u001b[0m\u001b[0;34m(\u001b[0m\u001b[0mvalues\u001b[0m\u001b[0;34m,\u001b[0m \u001b[0mindex\u001b[0m\u001b[0;34m=\u001b[0m\u001b[0marg\u001b[0m\u001b[0;34m.\u001b[0m\u001b[0mindex\u001b[0m\u001b[0;34m,\u001b[0m \u001b[0mname\u001b[0m\u001b[0;34m=\u001b[0m\u001b[0marg\u001b[0m\u001b[0;34m.\u001b[0m\u001b[0mname\u001b[0m\u001b[0;34m)\u001b[0m\u001b[0;34m\u001b[0m\u001b[0;34m\u001b[0m\u001b[0m\n\u001b[1;32m    730\u001b[0m     \u001b[0;32melif\u001b[0m \u001b[0misinstance\u001b[0m\u001b[0;34m(\u001b[0m\u001b[0marg\u001b[0m\u001b[0;34m,\u001b[0m \u001b[0;34m(\u001b[0m\u001b[0mABCDataFrame\u001b[0m\u001b[0;34m,\u001b[0m \u001b[0mabc\u001b[0m\u001b[0;34m.\u001b[0m\u001b[0mMutableMapping\u001b[0m\u001b[0;34m)\u001b[0m\u001b[0;34m)\u001b[0m\u001b[0;34m:\u001b[0m\u001b[0;34m\u001b[0m\u001b[0;34m\u001b[0m\u001b[0m\n",
      "\u001b[0;32m~/opt/anaconda3/lib/python3.7/site-packages/pandas/core/tools/datetimes.py\u001b[0m in \u001b[0;36m_convert_listlike_datetimes\u001b[0;34m(arg, format, name, tz, unit, errors, infer_datetime_format, dayfirst, yearfirst, exact)\u001b[0m\n\u001b[1;32m    445\u001b[0m             \u001b[0merrors\u001b[0m\u001b[0;34m=\u001b[0m\u001b[0merrors\u001b[0m\u001b[0;34m,\u001b[0m\u001b[0;34m\u001b[0m\u001b[0;34m\u001b[0m\u001b[0m\n\u001b[1;32m    446\u001b[0m             \u001b[0mrequire_iso8601\u001b[0m\u001b[0;34m=\u001b[0m\u001b[0mrequire_iso8601\u001b[0m\u001b[0;34m,\u001b[0m\u001b[0;34m\u001b[0m\u001b[0;34m\u001b[0m\u001b[0m\n\u001b[0;32m--> 447\u001b[0;31m             \u001b[0mallow_object\u001b[0m\u001b[0;34m=\u001b[0m\u001b[0;32mTrue\u001b[0m\u001b[0;34m,\u001b[0m\u001b[0;34m\u001b[0m\u001b[0;34m\u001b[0m\u001b[0m\n\u001b[0m\u001b[1;32m    448\u001b[0m         )\n\u001b[1;32m    449\u001b[0m \u001b[0;34m\u001b[0m\u001b[0m\n",
      "\u001b[0;32m~/opt/anaconda3/lib/python3.7/site-packages/pandas/core/arrays/datetimes.py\u001b[0m in \u001b[0;36mobjects_to_datetime64ns\u001b[0;34m(data, dayfirst, yearfirst, utc, errors, require_iso8601, allow_object)\u001b[0m\n\u001b[1;32m   1859\u001b[0m             \u001b[0;32mreturn\u001b[0m \u001b[0mvalues\u001b[0m\u001b[0;34m.\u001b[0m\u001b[0mview\u001b[0m\u001b[0;34m(\u001b[0m\u001b[0;34m\"i8\"\u001b[0m\u001b[0;34m)\u001b[0m\u001b[0;34m,\u001b[0m \u001b[0mtz_parsed\u001b[0m\u001b[0;34m\u001b[0m\u001b[0;34m\u001b[0m\u001b[0m\n\u001b[1;32m   1860\u001b[0m         \u001b[0;32mexcept\u001b[0m \u001b[0;34m(\u001b[0m\u001b[0mValueError\u001b[0m\u001b[0;34m,\u001b[0m \u001b[0mTypeError\u001b[0m\u001b[0;34m)\u001b[0m\u001b[0;34m:\u001b[0m\u001b[0;34m\u001b[0m\u001b[0;34m\u001b[0m\u001b[0m\n\u001b[0;32m-> 1861\u001b[0;31m             \u001b[0;32mraise\u001b[0m \u001b[0me\u001b[0m\u001b[0;34m\u001b[0m\u001b[0;34m\u001b[0m\u001b[0m\n\u001b[0m\u001b[1;32m   1862\u001b[0m \u001b[0;34m\u001b[0m\u001b[0m\n\u001b[1;32m   1863\u001b[0m     \u001b[0;32mif\u001b[0m \u001b[0mtz_parsed\u001b[0m \u001b[0;32mis\u001b[0m \u001b[0;32mnot\u001b[0m \u001b[0;32mNone\u001b[0m\u001b[0;34m:\u001b[0m\u001b[0;34m\u001b[0m\u001b[0;34m\u001b[0m\u001b[0m\n",
      "\u001b[0;32m~/opt/anaconda3/lib/python3.7/site-packages/pandas/core/arrays/datetimes.py\u001b[0m in \u001b[0;36mobjects_to_datetime64ns\u001b[0;34m(data, dayfirst, yearfirst, utc, errors, require_iso8601, allow_object)\u001b[0m\n\u001b[1;32m   1850\u001b[0m             \u001b[0mdayfirst\u001b[0m\u001b[0;34m=\u001b[0m\u001b[0mdayfirst\u001b[0m\u001b[0;34m,\u001b[0m\u001b[0;34m\u001b[0m\u001b[0;34m\u001b[0m\u001b[0m\n\u001b[1;32m   1851\u001b[0m             \u001b[0myearfirst\u001b[0m\u001b[0;34m=\u001b[0m\u001b[0myearfirst\u001b[0m\u001b[0;34m,\u001b[0m\u001b[0;34m\u001b[0m\u001b[0;34m\u001b[0m\u001b[0m\n\u001b[0;32m-> 1852\u001b[0;31m             \u001b[0mrequire_iso8601\u001b[0m\u001b[0;34m=\u001b[0m\u001b[0mrequire_iso8601\u001b[0m\u001b[0;34m,\u001b[0m\u001b[0;34m\u001b[0m\u001b[0;34m\u001b[0m\u001b[0m\n\u001b[0m\u001b[1;32m   1853\u001b[0m         )\n\u001b[1;32m   1854\u001b[0m     \u001b[0;32mexcept\u001b[0m \u001b[0mValueError\u001b[0m \u001b[0;32mas\u001b[0m \u001b[0me\u001b[0m\u001b[0;34m:\u001b[0m\u001b[0;34m\u001b[0m\u001b[0;34m\u001b[0m\u001b[0m\n",
      "\u001b[0;32mpandas/_libs/tslib.pyx\u001b[0m in \u001b[0;36mpandas._libs.tslib.array_to_datetime\u001b[0;34m()\u001b[0m\n",
      "\u001b[0;32mpandas/_libs/tslib.pyx\u001b[0m in \u001b[0;36mpandas._libs.tslib.array_to_datetime\u001b[0;34m()\u001b[0m\n",
      "\u001b[0;32mpandas/_libs/tslib.pyx\u001b[0m in \u001b[0;36mpandas._libs.tslib.array_to_datetime\u001b[0;34m()\u001b[0m\n",
      "\u001b[0;32mpandas/_libs/tslib.pyx\u001b[0m in \u001b[0;36mpandas._libs.tslib.array_to_datetime\u001b[0;34m()\u001b[0m\n",
      "\u001b[0;32mpandas/_libs/tslibs/np_datetime.pyx\u001b[0m in \u001b[0;36mpandas._libs.tslibs.np_datetime.check_dts_bounds\u001b[0;34m()\u001b[0m\n",
      "\u001b[0;31mOutOfBoundsDatetime\u001b[0m: Out of bounds nanosecond timestamp: 9690-01-20 00:00:00"
     ]
    }
   ],
   "source": [
    "sell['dtime'] = pd.to_datetime(sell['dtime'])\n",
    "mb['csrq'] = pd.to_datetime(mb['csrq'])\n",
    "mb['djsj'] = pd.to_datetime(mb['djsj'])"
   ]
  },
  {
   "cell_type": "code",
   "execution_count": 9,
   "metadata": {},
   "outputs": [],
   "source": [
    "def over_date(date):\n",
    "    try:\n",
    "        pd.to_datetime(date)\n",
    "        return True\n",
    "    except:\n",
    "        return False"
   ]
  },
  {
   "cell_type": "code",
   "execution_count": 10,
   "metadata": {},
   "outputs": [],
   "source": [
    "csrq = mb['csrq'].apply(lambda x:over_date(x))\n",
    "mb = mb[csrq]"
   ]
  },
  {
   "cell_type": "markdown",
   "metadata": {},
   "source": [
    "转换日期类型后发现日期有异常，所以要对日期进行处理"
   ]
  },
  {
   "cell_type": "code",
   "execution_count": 11,
   "metadata": {},
   "outputs": [],
   "source": [
    "sell['dtime'] = pd.to_datetime(sell['dtime'])\n",
    "mb['csrq'] = pd.to_datetime(mb['csrq'])\n",
    "mb['djsj'] = pd.to_datetime(mb['djsj'])"
   ]
  },
  {
   "cell_type": "code",
   "execution_count": 12,
   "metadata": {},
   "outputs": [],
   "source": [
    "csrq = mb['csrq'].apply(lambda x:x.year >=1900 and x.year <= 2010)\n",
    "mb = mb[csrq]"
   ]
  },
  {
   "cell_type": "code",
   "execution_count": 13,
   "metadata": {},
   "outputs": [
    {
     "data": {
      "text/plain": [
       "(143415, 4)"
      ]
     },
     "execution_count": 13,
     "metadata": {},
     "output_type": "execute_result"
    }
   ],
   "source": [
    "mb.shape"
   ]
  },
  {
   "cell_type": "code",
   "execution_count": 14,
   "metadata": {},
   "outputs": [
    {
     "data": {
      "text/plain": [
       "Timestamp('1900-01-01 00:00:00')"
      ]
     },
     "execution_count": 14,
     "metadata": {},
     "output_type": "execute_result"
    },
    {
     "data": {
      "text/plain": [
       "Timestamp('2010-12-04 00:00:00')"
      ]
     },
     "execution_count": 14,
     "metadata": {},
     "output_type": "execute_result"
    },
    {
     "data": {
      "text/plain": [
       "Timestamp('2080-07-03 00:00:00')"
      ]
     },
     "execution_count": 14,
     "metadata": {},
     "output_type": "execute_result"
    },
    {
     "data": {
      "text/plain": [
       "Timestamp('1900-01-01 00:00:00')"
      ]
     },
     "execution_count": 14,
     "metadata": {},
     "output_type": "execute_result"
    }
   ],
   "source": [
    "mb['csrq'].min() #出生年份最小值\n",
    "mb['csrq'].max() #出生年份最大值\n",
    "mb['djsj'].max() #入会时间最大值\n",
    "mb['djsj'].min() #入会时间最小值"
   ]
  },
  {
   "cell_type": "code",
   "execution_count": 15,
   "metadata": {},
   "outputs": [
    {
     "data": {
      "text/plain": [
       "(137324, 4)"
      ]
     },
     "execution_count": 15,
     "metadata": {},
     "output_type": "execute_result"
    }
   ],
   "source": [
    "djsj = mb['djsj'].apply(lambda x:x.year >= 2000 and x.year <= 2021)\n",
    "mb = mb[djsj]\n",
    "mb.shape"
   ]
  },
  {
   "cell_type": "code",
   "execution_count": 20,
   "metadata": {},
   "outputs": [
    {
     "data": {
      "text/html": [
       "<div>\n",
       "<style scoped>\n",
       "    .dataframe tbody tr th:only-of-type {\n",
       "        vertical-align: middle;\n",
       "    }\n",
       "\n",
       "    .dataframe tbody tr th {\n",
       "        vertical-align: top;\n",
       "    }\n",
       "\n",
       "    .dataframe thead th {\n",
       "        text-align: right;\n",
       "    }\n",
       "</style>\n",
       "<table border=\"1\" class=\"dataframe\">\n",
       "  <thead>\n",
       "    <tr style=\"text-align: right;\">\n",
       "      <th></th>\n",
       "      <th>sl</th>\n",
       "      <th>sj</th>\n",
       "      <th>je</th>\n",
       "      <th>jf</th>\n",
       "      <th>syjh</th>\n",
       "      <th>gzbm</th>\n",
       "    </tr>\n",
       "  </thead>\n",
       "  <tbody>\n",
       "    <tr>\n",
       "      <th>count</th>\n",
       "      <td>1.893532e+06</td>\n",
       "      <td>1.893532e+06</td>\n",
       "      <td>1.893532e+06</td>\n",
       "      <td>876046.000000</td>\n",
       "      <td>1.893532e+06</td>\n",
       "      <td>876046.000000</td>\n",
       "    </tr>\n",
       "    <tr>\n",
       "      <th>mean</th>\n",
       "      <td>1.060906e+00</td>\n",
       "      <td>1.093785e+03</td>\n",
       "      <td>1.047361e+03</td>\n",
       "      <td>1035.463948</td>\n",
       "      <td>1.002693e+02</td>\n",
       "      <td>6328.248018</td>\n",
       "    </tr>\n",
       "    <tr>\n",
       "      <th>std</th>\n",
       "      <td>2.483580e+00</td>\n",
       "      <td>2.582808e+03</td>\n",
       "      <td>2.697462e+03</td>\n",
       "      <td>2064.978604</td>\n",
       "      <td>6.689405e+01</td>\n",
       "      <td>2371.230147</td>\n",
       "    </tr>\n",
       "    <tr>\n",
       "      <th>min</th>\n",
       "      <td>-3.810000e+02</td>\n",
       "      <td>1.000000e-01</td>\n",
       "      <td>-6.712575e+05</td>\n",
       "      <td>-201616.000000</td>\n",
       "      <td>1.000000e+00</td>\n",
       "      <td>0.000000</td>\n",
       "    </tr>\n",
       "    <tr>\n",
       "      <th>25%</th>\n",
       "      <td>1.000000e+00</td>\n",
       "      <td>3.200000e+02</td>\n",
       "      <td>3.100000e+02</td>\n",
       "      <td>180.000000</td>\n",
       "      <td>8.700000e+01</td>\n",
       "      <td>4334.000000</td>\n",
       "    </tr>\n",
       "    <tr>\n",
       "      <th>50%</th>\n",
       "      <td>1.000000e+00</td>\n",
       "      <td>5.700000e+02</td>\n",
       "      <td>5.640000e+02</td>\n",
       "      <td>510.000000</td>\n",
       "      <td>9.400000e+01</td>\n",
       "      <td>8064.000000</td>\n",
       "    </tr>\n",
       "    <tr>\n",
       "      <th>75%</th>\n",
       "      <td>1.000000e+00</td>\n",
       "      <td>1.100000e+03</td>\n",
       "      <td>1.098000e+03</td>\n",
       "      <td>1259.000000</td>\n",
       "      <td>1.010000e+02</td>\n",
       "      <td>8123.000000</td>\n",
       "    </tr>\n",
       "    <tr>\n",
       "      <th>max</th>\n",
       "      <td>1.492000e+03</td>\n",
       "      <td>1.342515e+06</td>\n",
       "      <td>1.342515e+06</td>\n",
       "      <td>268503.000000</td>\n",
       "      <td>3.200000e+02</td>\n",
       "      <td>9005.000000</td>\n",
       "    </tr>\n",
       "  </tbody>\n",
       "</table>\n",
       "</div>"
      ],
      "text/plain": [
       "                 sl            sj            je             jf          syjh  \\\n",
       "count  1.893532e+06  1.893532e+06  1.893532e+06  876046.000000  1.893532e+06   \n",
       "mean   1.060906e+00  1.093785e+03  1.047361e+03    1035.463948  1.002693e+02   \n",
       "std    2.483580e+00  2.582808e+03  2.697462e+03    2064.978604  6.689405e+01   \n",
       "min   -3.810000e+02  1.000000e-01 -6.712575e+05 -201616.000000  1.000000e+00   \n",
       "25%    1.000000e+00  3.200000e+02  3.100000e+02     180.000000  8.700000e+01   \n",
       "50%    1.000000e+00  5.700000e+02  5.640000e+02     510.000000  9.400000e+01   \n",
       "75%    1.000000e+00  1.100000e+03  1.098000e+03    1259.000000  1.010000e+02   \n",
       "max    1.492000e+03  1.342515e+06  1.342515e+06  268503.000000  3.200000e+02   \n",
       "\n",
       "                gzbm  \n",
       "count  876046.000000  \n",
       "mean     6328.248018  \n",
       "std      2371.230147  \n",
       "min         0.000000  \n",
       "25%      4334.000000  \n",
       "50%      8064.000000  \n",
       "75%      8123.000000  \n",
       "max      9005.000000  "
      ]
     },
     "execution_count": 20,
     "metadata": {},
     "output_type": "execute_result"
    }
   ],
   "source": [
    "sell.describe()"
   ]
  },
  {
   "cell_type": "code",
   "execution_count": 16,
   "metadata": {},
   "outputs": [],
   "source": [
    "sell['je'] = sell.je.apply(lambda x: 0 if x<0 else x) #负数金额改成0\n",
    "sell['sl'] = sell.je.apply(lambda x: 0 if x<0 else x) #负数售价改成0\n",
    "sell['jf'] = sell.je.apply(lambda x: 0 if x<0 else x) #负数积分改成0"
   ]
  },
  {
   "cell_type": "code",
   "execution_count": 24,
   "metadata": {},
   "outputs": [
    {
     "data": {
      "text/html": [
       "<div>\n",
       "<style scoped>\n",
       "    .dataframe tbody tr th:only-of-type {\n",
       "        vertical-align: middle;\n",
       "    }\n",
       "\n",
       "    .dataframe tbody tr th {\n",
       "        vertical-align: top;\n",
       "    }\n",
       "\n",
       "    .dataframe thead th {\n",
       "        text-align: right;\n",
       "    }\n",
       "</style>\n",
       "<table border=\"1\" class=\"dataframe\">\n",
       "  <thead>\n",
       "    <tr style=\"text-align: right;\">\n",
       "      <th></th>\n",
       "      <th>sl</th>\n",
       "      <th>sj</th>\n",
       "      <th>je</th>\n",
       "      <th>jf</th>\n",
       "      <th>syjh</th>\n",
       "      <th>gzbm</th>\n",
       "    </tr>\n",
       "  </thead>\n",
       "  <tbody>\n",
       "    <tr>\n",
       "      <th>count</th>\n",
       "      <td>1.893532e+06</td>\n",
       "      <td>1.893532e+06</td>\n",
       "      <td>1.893532e+06</td>\n",
       "      <td>1.893532e+06</td>\n",
       "      <td>1.893532e+06</td>\n",
       "      <td>876046.000000</td>\n",
       "    </tr>\n",
       "    <tr>\n",
       "      <th>mean</th>\n",
       "      <td>1.073132e+03</td>\n",
       "      <td>1.093785e+03</td>\n",
       "      <td>1.073132e+03</td>\n",
       "      <td>1.073132e+03</td>\n",
       "      <td>1.002693e+02</td>\n",
       "      <td>6328.248018</td>\n",
       "    </tr>\n",
       "    <tr>\n",
       "      <th>std</th>\n",
       "      <td>2.527245e+03</td>\n",
       "      <td>2.582808e+03</td>\n",
       "      <td>2.527245e+03</td>\n",
       "      <td>2.527245e+03</td>\n",
       "      <td>6.689405e+01</td>\n",
       "      <td>2371.230147</td>\n",
       "    </tr>\n",
       "    <tr>\n",
       "      <th>min</th>\n",
       "      <td>0.000000e+00</td>\n",
       "      <td>1.000000e-01</td>\n",
       "      <td>0.000000e+00</td>\n",
       "      <td>0.000000e+00</td>\n",
       "      <td>1.000000e+00</td>\n",
       "      <td>0.000000</td>\n",
       "    </tr>\n",
       "    <tr>\n",
       "      <th>25%</th>\n",
       "      <td>3.100000e+02</td>\n",
       "      <td>3.200000e+02</td>\n",
       "      <td>3.100000e+02</td>\n",
       "      <td>3.100000e+02</td>\n",
       "      <td>8.700000e+01</td>\n",
       "      <td>4334.000000</td>\n",
       "    </tr>\n",
       "    <tr>\n",
       "      <th>50%</th>\n",
       "      <td>5.640000e+02</td>\n",
       "      <td>5.700000e+02</td>\n",
       "      <td>5.640000e+02</td>\n",
       "      <td>5.640000e+02</td>\n",
       "      <td>9.400000e+01</td>\n",
       "      <td>8064.000000</td>\n",
       "    </tr>\n",
       "    <tr>\n",
       "      <th>75%</th>\n",
       "      <td>1.098000e+03</td>\n",
       "      <td>1.100000e+03</td>\n",
       "      <td>1.098000e+03</td>\n",
       "      <td>1.098000e+03</td>\n",
       "      <td>1.010000e+02</td>\n",
       "      <td>8123.000000</td>\n",
       "    </tr>\n",
       "    <tr>\n",
       "      <th>max</th>\n",
       "      <td>1.342515e+06</td>\n",
       "      <td>1.342515e+06</td>\n",
       "      <td>1.342515e+06</td>\n",
       "      <td>1.342515e+06</td>\n",
       "      <td>3.200000e+02</td>\n",
       "      <td>9005.000000</td>\n",
       "    </tr>\n",
       "  </tbody>\n",
       "</table>\n",
       "</div>"
      ],
      "text/plain": [
       "                 sl            sj            je            jf          syjh  \\\n",
       "count  1.893532e+06  1.893532e+06  1.893532e+06  1.893532e+06  1.893532e+06   \n",
       "mean   1.073132e+03  1.093785e+03  1.073132e+03  1.073132e+03  1.002693e+02   \n",
       "std    2.527245e+03  2.582808e+03  2.527245e+03  2.527245e+03  6.689405e+01   \n",
       "min    0.000000e+00  1.000000e-01  0.000000e+00  0.000000e+00  1.000000e+00   \n",
       "25%    3.100000e+02  3.200000e+02  3.100000e+02  3.100000e+02  8.700000e+01   \n",
       "50%    5.640000e+02  5.700000e+02  5.640000e+02  5.640000e+02  9.400000e+01   \n",
       "75%    1.098000e+03  1.100000e+03  1.098000e+03  1.098000e+03  1.010000e+02   \n",
       "max    1.342515e+06  1.342515e+06  1.342515e+06  1.342515e+06  3.200000e+02   \n",
       "\n",
       "                gzbm  \n",
       "count  876046.000000  \n",
       "mean     6328.248018  \n",
       "std      2371.230147  \n",
       "min         0.000000  \n",
       "25%      4334.000000  \n",
       "50%      8064.000000  \n",
       "75%      8123.000000  \n",
       "max      9005.000000  "
      ]
     },
     "execution_count": 24,
     "metadata": {},
     "output_type": "execute_result"
    }
   ],
   "source": [
    "sell.describe()"
   ]
  },
  {
   "cell_type": "code",
   "execution_count": 81,
   "metadata": {},
   "outputs": [
    {
     "data": {
      "text/html": [
       "<div>\n",
       "<style scoped>\n",
       "    .dataframe tbody tr th:only-of-type {\n",
       "        vertical-align: middle;\n",
       "    }\n",
       "\n",
       "    .dataframe tbody tr th {\n",
       "        vertical-align: top;\n",
       "    }\n",
       "\n",
       "    .dataframe thead th {\n",
       "        text-align: right;\n",
       "    }\n",
       "</style>\n",
       "<table border=\"1\" class=\"dataframe\">\n",
       "  <thead>\n",
       "    <tr style=\"text-align: right;\">\n",
       "      <th></th>\n",
       "      <th>kh</th>\n",
       "      <th>csrq</th>\n",
       "      <th>xb</th>\n",
       "      <th>djsj</th>\n",
       "    </tr>\n",
       "  </thead>\n",
       "  <tbody>\n",
       "    <tr>\n",
       "      <th>0</th>\n",
       "      <td>c68b20b4</td>\n",
       "      <td>2002-11-02</td>\n",
       "      <td>0.0</td>\n",
       "      <td>2013-05-11 00:00:00.000</td>\n",
       "    </tr>\n",
       "    <tr>\n",
       "      <th>2</th>\n",
       "      <td>a37cc182</td>\n",
       "      <td>1967-02-17</td>\n",
       "      <td>0.0</td>\n",
       "      <td>2004-12-31 21:24:34.216</td>\n",
       "    </tr>\n",
       "    <tr>\n",
       "      <th>3</th>\n",
       "      <td>2ab88539</td>\n",
       "      <td>1982-06-01</td>\n",
       "      <td>0.0</td>\n",
       "      <td>2010-11-19 00:00:00.000</td>\n",
       "    </tr>\n",
       "    <tr>\n",
       "      <th>4</th>\n",
       "      <td>b4c77269</td>\n",
       "      <td>1964-02-05</td>\n",
       "      <td>0.0</td>\n",
       "      <td>2007-12-14 00:00:00.000</td>\n",
       "    </tr>\n",
       "    <tr>\n",
       "      <th>5</th>\n",
       "      <td>83a91070</td>\n",
       "      <td>1968-06-18</td>\n",
       "      <td>1.0</td>\n",
       "      <td>2004-05-01 16:50:13.950</td>\n",
       "    </tr>\n",
       "  </tbody>\n",
       "</table>\n",
       "</div>"
      ],
      "text/plain": [
       "         kh       csrq   xb                    djsj\n",
       "0  c68b20b4 2002-11-02  0.0 2013-05-11 00:00:00.000\n",
       "2  a37cc182 1967-02-17  0.0 2004-12-31 21:24:34.216\n",
       "3  2ab88539 1982-06-01  0.0 2010-11-19 00:00:00.000\n",
       "4  b4c77269 1964-02-05  0.0 2007-12-14 00:00:00.000\n",
       "5  83a91070 1968-06-18  1.0 2004-05-01 16:50:13.950"
      ]
     },
     "execution_count": 81,
     "metadata": {},
     "output_type": "execute_result"
    }
   ],
   "source": [
    "mb.head()"
   ]
  },
  {
   "cell_type": "code",
   "execution_count": 25,
   "metadata": {},
   "outputs": [],
   "source": [
    "task1 = pd.merge(mb,sell, how = 'outer',on = 'kh')"
   ]
  },
  {
   "cell_type": "code",
   "execution_count": 26,
   "metadata": {},
   "outputs": [
    {
     "data": {
      "text/html": [
       "<div>\n",
       "<style scoped>\n",
       "    .dataframe tbody tr th:only-of-type {\n",
       "        vertical-align: middle;\n",
       "    }\n",
       "\n",
       "    .dataframe tbody tr th {\n",
       "        vertical-align: top;\n",
       "    }\n",
       "\n",
       "    .dataframe thead th {\n",
       "        text-align: right;\n",
       "    }\n",
       "</style>\n",
       "<table border=\"1\" class=\"dataframe\">\n",
       "  <thead>\n",
       "    <tr style=\"text-align: right;\">\n",
       "      <th></th>\n",
       "      <th>kh</th>\n",
       "      <th>csrq</th>\n",
       "      <th>xb</th>\n",
       "      <th>djsj</th>\n",
       "      <th>dtime</th>\n",
       "      <th>spbm</th>\n",
       "      <th>sl</th>\n",
       "      <th>sj</th>\n",
       "      <th>je</th>\n",
       "      <th>spmc</th>\n",
       "      <th>jf</th>\n",
       "      <th>syjh</th>\n",
       "      <th>djh</th>\n",
       "      <th>gzbm</th>\n",
       "      <th>gzmc</th>\n",
       "    </tr>\n",
       "  </thead>\n",
       "  <tbody>\n",
       "    <tr>\n",
       "      <th>0</th>\n",
       "      <td>c68b20b4</td>\n",
       "      <td>2002-11-02</td>\n",
       "      <td>0.0</td>\n",
       "      <td>2013-05-11 00:00:00.000</td>\n",
       "      <td>NaT</td>\n",
       "      <td>NaN</td>\n",
       "      <td>NaN</td>\n",
       "      <td>NaN</td>\n",
       "      <td>NaN</td>\n",
       "      <td>NaN</td>\n",
       "      <td>NaN</td>\n",
       "      <td>NaN</td>\n",
       "      <td>NaN</td>\n",
       "      <td>NaN</td>\n",
       "      <td>NaN</td>\n",
       "    </tr>\n",
       "    <tr>\n",
       "      <th>1</th>\n",
       "      <td>a37cc182</td>\n",
       "      <td>1967-02-17</td>\n",
       "      <td>0.0</td>\n",
       "      <td>2004-12-31 21:24:34.216</td>\n",
       "      <td>2016-09-25 10:49:14.016</td>\n",
       "      <td>d62a69e3</td>\n",
       "      <td>297.07</td>\n",
       "      <td>499.0</td>\n",
       "      <td>297.07</td>\n",
       "      <td>WMF D无</td>\n",
       "      <td>297.07</td>\n",
       "      <td>101.0</td>\n",
       "      <td>7cd8</td>\n",
       "      <td>7296.0</td>\n",
       "      <td>WMF 柜</td>\n",
       "    </tr>\n",
       "    <tr>\n",
       "      <th>2</th>\n",
       "      <td>a37cc182</td>\n",
       "      <td>1967-02-17</td>\n",
       "      <td>0.0</td>\n",
       "      <td>2004-12-31 21:24:34.216</td>\n",
       "      <td>2016-09-25 10:49:14.016</td>\n",
       "      <td>d62a69e3</td>\n",
       "      <td>11089.93</td>\n",
       "      <td>12288.0</td>\n",
       "      <td>11089.93</td>\n",
       "      <td>WMF D无</td>\n",
       "      <td>11089.93</td>\n",
       "      <td>101.0</td>\n",
       "      <td>7cd8</td>\n",
       "      <td>7296.0</td>\n",
       "      <td>WMF 柜</td>\n",
       "    </tr>\n",
       "    <tr>\n",
       "      <th>3</th>\n",
       "      <td>a37cc182</td>\n",
       "      <td>1967-02-17</td>\n",
       "      <td>0.0</td>\n",
       "      <td>2004-12-31 21:24:34.216</td>\n",
       "      <td>2017-02-28 17:17:35.533</td>\n",
       "      <td>252403ef</td>\n",
       "      <td>598.00</td>\n",
       "      <td>598.0</td>\n",
       "      <td>598.00</td>\n",
       "      <td>双立人商品 F无</td>\n",
       "      <td>598.00</td>\n",
       "      <td>102.0</td>\n",
       "      <td>ed0a</td>\n",
       "      <td>7242.0</td>\n",
       "      <td>双立人柜</td>\n",
       "    </tr>\n",
       "    <tr>\n",
       "      <th>4</th>\n",
       "      <td>2ab88539</td>\n",
       "      <td>1982-06-01</td>\n",
       "      <td>0.0</td>\n",
       "      <td>2010-11-19 00:00:00.000</td>\n",
       "      <td>NaT</td>\n",
       "      <td>NaN</td>\n",
       "      <td>NaN</td>\n",
       "      <td>NaN</td>\n",
       "      <td>NaN</td>\n",
       "      <td>NaN</td>\n",
       "      <td>NaN</td>\n",
       "      <td>NaN</td>\n",
       "      <td>NaN</td>\n",
       "      <td>NaN</td>\n",
       "      <td>NaN</td>\n",
       "    </tr>\n",
       "  </tbody>\n",
       "</table>\n",
       "</div>"
      ],
      "text/plain": [
       "         kh       csrq   xb                    djsj                   dtime  \\\n",
       "0  c68b20b4 2002-11-02  0.0 2013-05-11 00:00:00.000                     NaT   \n",
       "1  a37cc182 1967-02-17  0.0 2004-12-31 21:24:34.216 2016-09-25 10:49:14.016   \n",
       "2  a37cc182 1967-02-17  0.0 2004-12-31 21:24:34.216 2016-09-25 10:49:14.016   \n",
       "3  a37cc182 1967-02-17  0.0 2004-12-31 21:24:34.216 2017-02-28 17:17:35.533   \n",
       "4  2ab88539 1982-06-01  0.0 2010-11-19 00:00:00.000                     NaT   \n",
       "\n",
       "       spbm        sl       sj        je      spmc        jf   syjh   djh  \\\n",
       "0       NaN       NaN      NaN       NaN       NaN       NaN    NaN   NaN   \n",
       "1  d62a69e3    297.07    499.0    297.07    WMF D无    297.07  101.0  7cd8   \n",
       "2  d62a69e3  11089.93  12288.0  11089.93    WMF D无  11089.93  101.0  7cd8   \n",
       "3  252403ef    598.00    598.0    598.00  双立人商品 F无    598.00  102.0  ed0a   \n",
       "4       NaN       NaN      NaN       NaN       NaN       NaN    NaN   NaN   \n",
       "\n",
       "     gzbm   gzmc  \n",
       "0     NaN    NaN  \n",
       "1  7296.0  WMF 柜  \n",
       "2  7296.0  WMF 柜  \n",
       "3  7242.0   双立人柜  \n",
       "4     NaN    NaN  "
      ]
     },
     "execution_count": 26,
     "metadata": {},
     "output_type": "execute_result"
    }
   ],
   "source": [
    "task1.head()"
   ]
  },
  {
   "cell_type": "code",
   "execution_count": 32,
   "metadata": {},
   "outputs": [
    {
     "data": {
      "text/plain": [
       "(1999337, 15)"
      ]
     },
     "execution_count": 32,
     "metadata": {},
     "output_type": "execute_result"
    }
   ],
   "source": [
    "task1.shape"
   ]
  },
  {
   "cell_type": "code",
   "execution_count": 3,
   "metadata": {},
   "outputs": [
    {
     "name": "stderr",
     "output_type": "stream",
     "text": [
      "/Users/quanzai/opt/anaconda3/lib/python3.7/site-packages/IPython/core/interactiveshell.py:3063: DtypeWarning: Columns (0,1,3,14) have mixed types.Specify dtype option on import or set low_memory=False.\n",
      "  interactivity=interactivity, compiler=compiler, result=result)\n"
     ]
    }
   ],
   "source": [
    "data = pd.read_csv('task1.csv')\n",
    "data = data.dropna(axis = 0,subset = ['kh','djsj','dtime'])"
   ]
  },
  {
   "cell_type": "code",
   "execution_count": 4,
   "metadata": {},
   "outputs": [],
   "source": [
    "data.to_csv('mb_sell.csv',index = False)"
   ]
  }
 ],
 "metadata": {
  "kernelspec": {
   "display_name": "Python 3",
   "language": "python",
   "name": "python3"
  },
  "language_info": {
   "codemirror_mode": {
    "name": "ipython",
    "version": 3
   },
   "file_extension": ".py",
   "mimetype": "text/x-python",
   "name": "python",
   "nbconvert_exporter": "python",
   "pygments_lexer": "ipython3",
   "version": "3.7.4"
  },
  "toc": {
   "base_numbering": 1,
   "nav_menu": {},
   "number_sections": true,
   "sideBar": true,
   "skip_h1_title": false,
   "title_cell": "Table of Contents",
   "title_sidebar": "Contents",
   "toc_cell": false,
   "toc_position": {},
   "toc_section_display": true,
   "toc_window_display": false
  },
  "varInspector": {
   "cols": {
    "lenName": 16,
    "lenType": 16,
    "lenVar": 40
   },
   "kernels_config": {
    "python": {
     "delete_cmd_postfix": "",
     "delete_cmd_prefix": "del ",
     "library": "var_list.py",
     "varRefreshCmd": "print(var_dic_list())"
    },
    "r": {
     "delete_cmd_postfix": ") ",
     "delete_cmd_prefix": "rm(",
     "library": "var_list.r",
     "varRefreshCmd": "cat(var_dic_list()) "
    }
   },
   "types_to_exclude": [
    "module",
    "function",
    "builtin_function_or_method",
    "instance",
    "_Feature"
   ],
   "window_display": false
  }
 },
 "nbformat": 4,
 "nbformat_minor": 4
}
